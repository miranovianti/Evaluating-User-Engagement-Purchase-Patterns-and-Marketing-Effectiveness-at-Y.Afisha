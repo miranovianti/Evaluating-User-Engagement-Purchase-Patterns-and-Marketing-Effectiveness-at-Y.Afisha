{
 "cells": [
  {
   "cell_type": "markdown",
   "metadata": {},
   "source": [
    "# Evaluating User Engagement, Purchase Patterns, and Marketing Effectiveness at Y.Afisha"
   ]
  },
  {
   "cell_type": "markdown",
   "metadata": {},
   "source": [
    "# Contents\n",
    "\n",
    "1. Introduction and Objectives\n",
    "2. Steps Taken\n",
    "3. Data Processing\n",
    "4. Data Analysis\n",
    "5. Data Visualization\n",
    "6. Conclusion\n",
    "\n",
    "# Introduction and Objectives\n",
    "\n",
    "During the internship program in the analytics department of Y.Afisha company, the first task was aimed at helping to optimize the marketing budget. The analysis was supported by:\n",
    "\n",
    "* Server logs containing site visit data to Y.Afisha from January 2017 to December 2018\n",
    "* Dump files containing all orders for that period\n",
    "* Marketing cost statistics\n",
    "\n",
    "Additionally, the study aimed to:\n",
    "\n",
    "* Understand how users interact with Y.Afisha's products\n",
    "* Determine when users start making purchases\n",
    "* Calculate the revenue contributed by each user\n",
    "* Identify when all marketing expenses are paid off \n",
    "\n",
    "# Steps Taken\n",
    "\n",
    "1. Download and prepare the data for analysis\n",
    "2. Compile reports and calculate the necessary metrics\n",
    "    * Product\n",
    "        * How many people use the product daily, weekly, and monthly?\n",
    "        * How many sessions occur per day? (A single user might have multiple sessions).\n",
    "        * What is the average duration of each session?\n",
    "        * How frequently do users return to use the product?\n",
    "    * Sales\n",
    "        * When do users start making purchases? (In KPI analysis, we are usually interested in the time elapsed from registration to conversion (or when users officially become customers). For instance, if registration and the first purchase occur on the same day, the user can be classified as Conversion h0. If the first purchase happens the next day, the classification would be Conversion h1. You may use any approach that allows you to compare conversions from different cohorts, helping you identify which cohort or marketing channel is most effective).\n",
    "        * How many orders do users place over a certain period?\n",
    "        * What is the average purchase value?\n",
    "        * What is the total revenue contributed by users? (LTV)\n",
    "    * Marketing\n",
    "        * How much money is spent? Overall/per source/over time\n",
    "        * What is the customer acquisition cost from each source?\n",
    "        * How profitable is the investment? (ROI)\n",
    "    Create charts that display the differences in these metrics across various devices and advertising sources, as well as changes over time.\n",
    "3. Conclusion: Provide marketing specialists with recommendations on how much money to invest and where these investments should be allocated."
   ]
  },
  {
   "cell_type": "markdown",
   "metadata": {},
   "source": [
    "# 1. Data overview"
   ]
  },
  {
   "cell_type": "code",
   "execution_count": 1,
   "metadata": {},
   "outputs": [],
   "source": [
    "import pandas as pd\n",
    "import matplotlib.pyplot as plt\n",
    "import seaborn as sns\n",
    "import numpy as np\n",
    "from datetime import datetime, timedelta\n",
    "from scipy import stats as st"
   ]
  },
  {
   "cell_type": "code",
   "execution_count": 2,
   "metadata": {},
   "outputs": [],
   "source": [
    "df_visits = pd.read_csv('/datasets/visits_log_us.csv')\n",
    "df_orders = pd.read_csv('/datasets/orders_log_us.csv')\n",
    "df_costs = pd.read_csv('/datasets/costs_us.csv')"
   ]
  },
  {
   "cell_type": "markdown",
   "metadata": {},
   "source": [
    "**Mengoptimalkan df_visits**"
   ]
  },
  {
   "cell_type": "code",
   "execution_count": 3,
   "metadata": {
    "scrolled": true
   },
   "outputs": [
    {
     "data": {
      "text/html": [
       "<div>\n",
       "<style scoped>\n",
       "    .dataframe tbody tr th:only-of-type {\n",
       "        vertical-align: middle;\n",
       "    }\n",
       "\n",
       "    .dataframe tbody tr th {\n",
       "        vertical-align: top;\n",
       "    }\n",
       "\n",
       "    .dataframe thead th {\n",
       "        text-align: right;\n",
       "    }\n",
       "</style>\n",
       "<table border=\"1\" class=\"dataframe\">\n",
       "  <thead>\n",
       "    <tr style=\"text-align: right;\">\n",
       "      <th></th>\n",
       "      <th>Device</th>\n",
       "      <th>End Ts</th>\n",
       "      <th>Source Id</th>\n",
       "      <th>Start Ts</th>\n",
       "      <th>Uid</th>\n",
       "    </tr>\n",
       "  </thead>\n",
       "  <tbody>\n",
       "    <tr>\n",
       "      <th>279104</th>\n",
       "      <td>touch</td>\n",
       "      <td>2017-10-06 10:18:00</td>\n",
       "      <td>4</td>\n",
       "      <td>2017-10-06 10:12:00</td>\n",
       "      <td>2101314373325897665</td>\n",
       "    </tr>\n",
       "    <tr>\n",
       "      <th>222264</th>\n",
       "      <td>touch</td>\n",
       "      <td>2018-05-11 23:05:00</td>\n",
       "      <td>2</td>\n",
       "      <td>2018-05-11 22:58:00</td>\n",
       "      <td>2167262359166982553</td>\n",
       "    </tr>\n",
       "    <tr>\n",
       "      <th>294825</th>\n",
       "      <td>desktop</td>\n",
       "      <td>2017-06-07 10:13:00</td>\n",
       "      <td>3</td>\n",
       "      <td>2017-06-07 10:02:00</td>\n",
       "      <td>14907036246572609942</td>\n",
       "    </tr>\n",
       "    <tr>\n",
       "      <th>51310</th>\n",
       "      <td>touch</td>\n",
       "      <td>2018-03-22 16:05:00</td>\n",
       "      <td>2</td>\n",
       "      <td>2018-03-22 15:43:00</td>\n",
       "      <td>10438974714208943002</td>\n",
       "    </tr>\n",
       "    <tr>\n",
       "      <th>266858</th>\n",
       "      <td>desktop</td>\n",
       "      <td>2017-12-11 11:22:00</td>\n",
       "      <td>3</td>\n",
       "      <td>2017-12-11 11:18:00</td>\n",
       "      <td>11564571176353198680</td>\n",
       "    </tr>\n",
       "  </tbody>\n",
       "</table>\n",
       "</div>"
      ],
      "text/plain": [
       "         Device               End Ts  Source Id             Start Ts  \\\n",
       "279104    touch  2017-10-06 10:18:00          4  2017-10-06 10:12:00   \n",
       "222264    touch  2018-05-11 23:05:00          2  2018-05-11 22:58:00   \n",
       "294825  desktop  2017-06-07 10:13:00          3  2017-06-07 10:02:00   \n",
       "51310     touch  2018-03-22 16:05:00          2  2018-03-22 15:43:00   \n",
       "266858  desktop  2017-12-11 11:22:00          3  2017-12-11 11:18:00   \n",
       "\n",
       "                         Uid  \n",
       "279104   2101314373325897665  \n",
       "222264   2167262359166982553  \n",
       "294825  14907036246572609942  \n",
       "51310   10438974714208943002  \n",
       "266858  11564571176353198680  "
      ]
     },
     "execution_count": 3,
     "metadata": {},
     "output_type": "execute_result"
    }
   ],
   "source": [
    "df_visits.sample(5)"
   ]
  },
  {
   "cell_type": "code",
   "execution_count": 4,
   "metadata": {},
   "outputs": [
    {
     "name": "stdout",
     "output_type": "stream",
     "text": [
      "<class 'pandas.core.frame.DataFrame'>\n",
      "RangeIndex: 359400 entries, 0 to 359399\n",
      "Data columns (total 5 columns):\n",
      " #   Column     Non-Null Count   Dtype \n",
      "---  ------     --------------   ----- \n",
      " 0   Device     359400 non-null  object\n",
      " 1   End Ts     359400 non-null  object\n",
      " 2   Source Id  359400 non-null  int64 \n",
      " 3   Start Ts   359400 non-null  object\n",
      " 4   Uid        359400 non-null  uint64\n",
      "dtypes: int64(1), object(3), uint64(1)\n",
      "memory usage: 13.7+ MB\n"
     ]
    }
   ],
   "source": [
    "df_visits.info()"
   ]
  },
  {
   "cell_type": "code",
   "execution_count": 5,
   "metadata": {},
   "outputs": [],
   "source": [
    "df_visits = df_visits.rename(columns = {'Device': 'device', 'End Ts': 'end_ts', 'Source Id': 'source_id', 'Start Ts': 'start_ts', 'Uid': 'uid'})"
   ]
  },
  {
   "cell_type": "code",
   "execution_count": 6,
   "metadata": {},
   "outputs": [
    {
     "data": {
      "text/plain": [
       "desktop    262567\n",
       "touch       96833\n",
       "Name: device, dtype: int64"
      ]
     },
     "execution_count": 6,
     "metadata": {},
     "output_type": "execute_result"
    }
   ],
   "source": [
    "df_visits['device'].value_counts()"
   ]
  },
  {
   "cell_type": "code",
   "execution_count": 7,
   "metadata": {},
   "outputs": [],
   "source": [
    "df_visits['device'] = df_visits['device'].astype('category')"
   ]
  },
  {
   "cell_type": "code",
   "execution_count": 8,
   "metadata": {},
   "outputs": [],
   "source": [
    "df_visits['start_ts'] =  pd.to_datetime(df_visits['start_ts'], format=\"%Y-%m-%d %H:%M\")\n",
    "df_visits['end_ts'] =  pd.to_datetime(df_visits['end_ts'], format=\"%Y-%m-%d %H:%M\")"
   ]
  },
  {
   "cell_type": "code",
   "execution_count": 9,
   "metadata": {},
   "outputs": [
    {
     "data": {
      "text/html": [
       "<div>\n",
       "<style scoped>\n",
       "    .dataframe tbody tr th:only-of-type {\n",
       "        vertical-align: middle;\n",
       "    }\n",
       "\n",
       "    .dataframe tbody tr th {\n",
       "        vertical-align: top;\n",
       "    }\n",
       "\n",
       "    .dataframe thead th {\n",
       "        text-align: right;\n",
       "    }\n",
       "</style>\n",
       "<table border=\"1\" class=\"dataframe\">\n",
       "  <thead>\n",
       "    <tr style=\"text-align: right;\">\n",
       "      <th></th>\n",
       "      <th>device</th>\n",
       "      <th>end_ts</th>\n",
       "      <th>source_id</th>\n",
       "      <th>start_ts</th>\n",
       "      <th>uid</th>\n",
       "    </tr>\n",
       "  </thead>\n",
       "  <tbody>\n",
       "    <tr>\n",
       "      <th>4181</th>\n",
       "      <td>desktop</td>\n",
       "      <td>2018-03-25 03:18:00</td>\n",
       "      <td>3</td>\n",
       "      <td>2018-03-25 03:50:00</td>\n",
       "      <td>13092152539246794986</td>\n",
       "    </tr>\n",
       "    <tr>\n",
       "      <th>177972</th>\n",
       "      <td>desktop</td>\n",
       "      <td>2018-03-25 03:09:00</td>\n",
       "      <td>9</td>\n",
       "      <td>2018-03-25 03:55:00</td>\n",
       "      <td>4621202742905035453</td>\n",
       "    </tr>\n",
       "  </tbody>\n",
       "</table>\n",
       "</div>"
      ],
      "text/plain": [
       "         device              end_ts  source_id            start_ts  \\\n",
       "4181    desktop 2018-03-25 03:18:00          3 2018-03-25 03:50:00   \n",
       "177972  desktop 2018-03-25 03:09:00          9 2018-03-25 03:55:00   \n",
       "\n",
       "                         uid  \n",
       "4181    13092152539246794986  \n",
       "177972   4621202742905035453  "
      ]
     },
     "execution_count": 9,
     "metadata": {},
     "output_type": "execute_result"
    }
   ],
   "source": [
    "df_visits[df_visits['start_ts'] > df_visits['end_ts']]"
   ]
  },
  {
   "cell_type": "code",
   "execution_count": 10,
   "metadata": {},
   "outputs": [],
   "source": [
    "df_visits = df_visits[df_visits['start_ts'] <= df_visits['end_ts']]"
   ]
  },
  {
   "cell_type": "code",
   "execution_count": 11,
   "metadata": {},
   "outputs": [
    {
     "name": "stdout",
     "output_type": "stream",
     "text": [
      "<class 'pandas.core.frame.DataFrame'>\n",
      "Int64Index: 359398 entries, 0 to 359399\n",
      "Data columns (total 5 columns):\n",
      " #   Column     Non-Null Count   Dtype         \n",
      "---  ------     --------------   -----         \n",
      " 0   device     359398 non-null  category      \n",
      " 1   end_ts     359398 non-null  datetime64[ns]\n",
      " 2   source_id  359398 non-null  int64         \n",
      " 3   start_ts   359398 non-null  datetime64[ns]\n",
      " 4   uid        359398 non-null  uint64        \n",
      "dtypes: category(1), datetime64[ns](2), int64(1), uint64(1)\n",
      "memory usage: 14.1 MB\n"
     ]
    }
   ],
   "source": [
    "df_visits.info()"
   ]
  },
  {
   "cell_type": "markdown",
   "metadata": {},
   "source": [
    "**Mengoptimalkan df_orders**"
   ]
  },
  {
   "cell_type": "code",
   "execution_count": 12,
   "metadata": {},
   "outputs": [
    {
     "data": {
      "text/html": [
       "<div>\n",
       "<style scoped>\n",
       "    .dataframe tbody tr th:only-of-type {\n",
       "        vertical-align: middle;\n",
       "    }\n",
       "\n",
       "    .dataframe tbody tr th {\n",
       "        vertical-align: top;\n",
       "    }\n",
       "\n",
       "    .dataframe thead th {\n",
       "        text-align: right;\n",
       "    }\n",
       "</style>\n",
       "<table border=\"1\" class=\"dataframe\">\n",
       "  <thead>\n",
       "    <tr style=\"text-align: right;\">\n",
       "      <th></th>\n",
       "      <th>Buy Ts</th>\n",
       "      <th>Revenue</th>\n",
       "      <th>Uid</th>\n",
       "    </tr>\n",
       "  </thead>\n",
       "  <tbody>\n",
       "    <tr>\n",
       "      <th>15223</th>\n",
       "      <td>2017-10-29 21:39:00</td>\n",
       "      <td>3.05</td>\n",
       "      <td>6246058629109250981</td>\n",
       "    </tr>\n",
       "    <tr>\n",
       "      <th>19270</th>\n",
       "      <td>2017-11-24 13:11:00</td>\n",
       "      <td>2.27</td>\n",
       "      <td>9715290219112529003</td>\n",
       "    </tr>\n",
       "    <tr>\n",
       "      <th>18118</th>\n",
       "      <td>2017-11-17 17:15:00</td>\n",
       "      <td>0.49</td>\n",
       "      <td>16516408538467221495</td>\n",
       "    </tr>\n",
       "    <tr>\n",
       "      <th>5423</th>\n",
       "      <td>2017-08-16 11:04:00</td>\n",
       "      <td>0.61</td>\n",
       "      <td>5367126055113114400</td>\n",
       "    </tr>\n",
       "    <tr>\n",
       "      <th>5691</th>\n",
       "      <td>2017-08-20 23:52:00</td>\n",
       "      <td>1.34</td>\n",
       "      <td>5700583337870519674</td>\n",
       "    </tr>\n",
       "  </tbody>\n",
       "</table>\n",
       "</div>"
      ],
      "text/plain": [
       "                    Buy Ts  Revenue                   Uid\n",
       "15223  2017-10-29 21:39:00     3.05   6246058629109250981\n",
       "19270  2017-11-24 13:11:00     2.27   9715290219112529003\n",
       "18118  2017-11-17 17:15:00     0.49  16516408538467221495\n",
       "5423   2017-08-16 11:04:00     0.61   5367126055113114400\n",
       "5691   2017-08-20 23:52:00     1.34   5700583337870519674"
      ]
     },
     "execution_count": 12,
     "metadata": {},
     "output_type": "execute_result"
    }
   ],
   "source": [
    "df_orders.sample(5)"
   ]
  },
  {
   "cell_type": "code",
   "execution_count": 13,
   "metadata": {},
   "outputs": [
    {
     "name": "stdout",
     "output_type": "stream",
     "text": [
      "<class 'pandas.core.frame.DataFrame'>\n",
      "RangeIndex: 50415 entries, 0 to 50414\n",
      "Data columns (total 3 columns):\n",
      " #   Column   Non-Null Count  Dtype  \n",
      "---  ------   --------------  -----  \n",
      " 0   Buy Ts   50415 non-null  object \n",
      " 1   Revenue  50415 non-null  float64\n",
      " 2   Uid      50415 non-null  uint64 \n",
      "dtypes: float64(1), object(1), uint64(1)\n",
      "memory usage: 1.2+ MB\n"
     ]
    }
   ],
   "source": [
    "df_orders.info()"
   ]
  },
  {
   "cell_type": "code",
   "execution_count": 14,
   "metadata": {},
   "outputs": [],
   "source": [
    "df_orders = df_orders.rename(columns = {'Buy Ts': 'buy_ts', 'Revenue': 'revenue', 'Uid':'uid'})"
   ]
  },
  {
   "cell_type": "code",
   "execution_count": 15,
   "metadata": {},
   "outputs": [],
   "source": [
    "df_orders['buy_ts'] =  pd.to_datetime(df_orders['buy_ts'], format=\"%Y-%m-%d %H:%M\")"
   ]
  },
  {
   "cell_type": "code",
   "execution_count": 16,
   "metadata": {},
   "outputs": [
    {
     "name": "stdout",
     "output_type": "stream",
     "text": [
      "<class 'pandas.core.frame.DataFrame'>\n",
      "RangeIndex: 50415 entries, 0 to 50414\n",
      "Data columns (total 3 columns):\n",
      " #   Column   Non-Null Count  Dtype         \n",
      "---  ------   --------------  -----         \n",
      " 0   buy_ts   50415 non-null  datetime64[ns]\n",
      " 1   revenue  50415 non-null  float64       \n",
      " 2   uid      50415 non-null  uint64        \n",
      "dtypes: datetime64[ns](1), float64(1), uint64(1)\n",
      "memory usage: 1.2 MB\n"
     ]
    }
   ],
   "source": [
    "df_orders.info()"
   ]
  },
  {
   "cell_type": "markdown",
   "metadata": {},
   "source": [
    "**Mengoptimalkan df_costs**"
   ]
  },
  {
   "cell_type": "code",
   "execution_count": 17,
   "metadata": {},
   "outputs": [
    {
     "data": {
      "text/html": [
       "<div>\n",
       "<style scoped>\n",
       "    .dataframe tbody tr th:only-of-type {\n",
       "        vertical-align: middle;\n",
       "    }\n",
       "\n",
       "    .dataframe tbody tr th {\n",
       "        vertical-align: top;\n",
       "    }\n",
       "\n",
       "    .dataframe thead th {\n",
       "        text-align: right;\n",
       "    }\n",
       "</style>\n",
       "<table border=\"1\" class=\"dataframe\">\n",
       "  <thead>\n",
       "    <tr style=\"text-align: right;\">\n",
       "      <th></th>\n",
       "      <th>source_id</th>\n",
       "      <th>dt</th>\n",
       "      <th>costs</th>\n",
       "    </tr>\n",
       "  </thead>\n",
       "  <tbody>\n",
       "    <tr>\n",
       "      <th>554</th>\n",
       "      <td>2</td>\n",
       "      <td>2017-12-09</td>\n",
       "      <td>128.35</td>\n",
       "    </tr>\n",
       "    <tr>\n",
       "      <th>1321</th>\n",
       "      <td>4</td>\n",
       "      <td>2018-01-19</td>\n",
       "      <td>363.74</td>\n",
       "    </tr>\n",
       "    <tr>\n",
       "      <th>606</th>\n",
       "      <td>2</td>\n",
       "      <td>2018-01-30</td>\n",
       "      <td>153.06</td>\n",
       "    </tr>\n",
       "    <tr>\n",
       "      <th>2321</th>\n",
       "      <td>10</td>\n",
       "      <td>2017-10-21</td>\n",
       "      <td>20.70</td>\n",
       "    </tr>\n",
       "    <tr>\n",
       "      <th>456</th>\n",
       "      <td>2</td>\n",
       "      <td>2017-09-02</td>\n",
       "      <td>57.95</td>\n",
       "    </tr>\n",
       "  </tbody>\n",
       "</table>\n",
       "</div>"
      ],
      "text/plain": [
       "      source_id          dt   costs\n",
       "554           2  2017-12-09  128.35\n",
       "1321          4  2018-01-19  363.74\n",
       "606           2  2018-01-30  153.06\n",
       "2321         10  2017-10-21   20.70\n",
       "456           2  2017-09-02   57.95"
      ]
     },
     "execution_count": 17,
     "metadata": {},
     "output_type": "execute_result"
    }
   ],
   "source": [
    "df_costs.sample(5)"
   ]
  },
  {
   "cell_type": "code",
   "execution_count": 18,
   "metadata": {},
   "outputs": [
    {
     "name": "stdout",
     "output_type": "stream",
     "text": [
      "<class 'pandas.core.frame.DataFrame'>\n",
      "RangeIndex: 2542 entries, 0 to 2541\n",
      "Data columns (total 3 columns):\n",
      " #   Column     Non-Null Count  Dtype  \n",
      "---  ------     --------------  -----  \n",
      " 0   source_id  2542 non-null   int64  \n",
      " 1   dt         2542 non-null   object \n",
      " 2   costs      2542 non-null   float64\n",
      "dtypes: float64(1), int64(1), object(1)\n",
      "memory usage: 59.7+ KB\n"
     ]
    }
   ],
   "source": [
    "df_costs.info()"
   ]
  },
  {
   "cell_type": "code",
   "execution_count": 19,
   "metadata": {},
   "outputs": [],
   "source": [
    "df_costs['dt'] =  pd.to_datetime(df_costs['dt'], format=\"%Y-%m-%d\")"
   ]
  },
  {
   "cell_type": "code",
   "execution_count": 20,
   "metadata": {},
   "outputs": [
    {
     "name": "stdout",
     "output_type": "stream",
     "text": [
      "<class 'pandas.core.frame.DataFrame'>\n",
      "RangeIndex: 2542 entries, 0 to 2541\n",
      "Data columns (total 3 columns):\n",
      " #   Column     Non-Null Count  Dtype         \n",
      "---  ------     --------------  -----         \n",
      " 0   source_id  2542 non-null   int64         \n",
      " 1   dt         2542 non-null   datetime64[ns]\n",
      " 2   costs      2542 non-null   float64       \n",
      "dtypes: datetime64[ns](1), float64(1), int64(1)\n",
      "memory usage: 59.7 KB\n"
     ]
    }
   ],
   "source": [
    "df_costs.info()"
   ]
  },
  {
   "cell_type": "markdown",
   "metadata": {},
   "source": [
    "The column names of the three files have been changed, and the data types for each column have been adjusted as necessary. Each file has no missing rows. Therefore, the data is ready for further analysis."
   ]
  },
  {
   "cell_type": "markdown",
   "metadata": {},
   "source": [
    "# 2. Report and Calculate the Necessary Metrics\n",
    "\n",
    "## Product\n",
    "\n",
    "### Number of People Using the Product Daily, Weekly, and Monthly"
   ]
  },
  {
   "cell_type": "code",
   "execution_count": 21,
   "metadata": {},
   "outputs": [
    {
     "data": {
      "text/html": [
       "<div>\n",
       "<style scoped>\n",
       "    .dataframe tbody tr th:only-of-type {\n",
       "        vertical-align: middle;\n",
       "    }\n",
       "\n",
       "    .dataframe tbody tr th {\n",
       "        vertical-align: top;\n",
       "    }\n",
       "\n",
       "    .dataframe thead th {\n",
       "        text-align: right;\n",
       "    }\n",
       "</style>\n",
       "<table border=\"1\" class=\"dataframe\">\n",
       "  <thead>\n",
       "    <tr style=\"text-align: right;\">\n",
       "      <th></th>\n",
       "      <th>device</th>\n",
       "      <th>end_ts</th>\n",
       "      <th>source_id</th>\n",
       "      <th>start_ts</th>\n",
       "      <th>uid</th>\n",
       "    </tr>\n",
       "  </thead>\n",
       "  <tbody>\n",
       "    <tr>\n",
       "      <th>247315</th>\n",
       "      <td>touch</td>\n",
       "      <td>2017-06-14 00:30:00</td>\n",
       "      <td>4</td>\n",
       "      <td>2017-06-14 00:21:00</td>\n",
       "      <td>12887980593847937416</td>\n",
       "    </tr>\n",
       "    <tr>\n",
       "      <th>147609</th>\n",
       "      <td>touch</td>\n",
       "      <td>2017-08-29 22:38:00</td>\n",
       "      <td>3</td>\n",
       "      <td>2017-08-29 22:37:00</td>\n",
       "      <td>1127171789956323142</td>\n",
       "    </tr>\n",
       "    <tr>\n",
       "      <th>138670</th>\n",
       "      <td>desktop</td>\n",
       "      <td>2017-07-01 14:03:00</td>\n",
       "      <td>5</td>\n",
       "      <td>2017-07-01 14:02:00</td>\n",
       "      <td>10407799669337131355</td>\n",
       "    </tr>\n",
       "    <tr>\n",
       "      <th>119719</th>\n",
       "      <td>desktop</td>\n",
       "      <td>2017-09-23 11:47:00</td>\n",
       "      <td>4</td>\n",
       "      <td>2017-09-23 11:46:00</td>\n",
       "      <td>16809298212771175526</td>\n",
       "    </tr>\n",
       "    <tr>\n",
       "      <th>173015</th>\n",
       "      <td>desktop</td>\n",
       "      <td>2017-08-10 18:27:00</td>\n",
       "      <td>1</td>\n",
       "      <td>2017-08-10 18:27:00</td>\n",
       "      <td>17092687748422035640</td>\n",
       "    </tr>\n",
       "  </tbody>\n",
       "</table>\n",
       "</div>"
      ],
      "text/plain": [
       "         device              end_ts  source_id            start_ts  \\\n",
       "247315    touch 2017-06-14 00:30:00          4 2017-06-14 00:21:00   \n",
       "147609    touch 2017-08-29 22:38:00          3 2017-08-29 22:37:00   \n",
       "138670  desktop 2017-07-01 14:03:00          5 2017-07-01 14:02:00   \n",
       "119719  desktop 2017-09-23 11:47:00          4 2017-09-23 11:46:00   \n",
       "173015  desktop 2017-08-10 18:27:00          1 2017-08-10 18:27:00   \n",
       "\n",
       "                         uid  \n",
       "247315  12887980593847937416  \n",
       "147609   1127171789956323142  \n",
       "138670  10407799669337131355  \n",
       "119719  16809298212771175526  \n",
       "173015  17092687748422035640  "
      ]
     },
     "execution_count": 21,
     "metadata": {},
     "output_type": "execute_result"
    }
   ],
   "source": [
    "df_visits.sample(5)"
   ]
  },
  {
   "cell_type": "code",
   "execution_count": 22,
   "metadata": {},
   "outputs": [
    {
     "name": "stderr",
     "output_type": "stream",
     "text": [
      "/tmp/ipykernel_322/3500501610.py:3: FutureWarning: Series.dt.weekofyear and Series.dt.week have been deprecated.  Please use Series.dt.isocalendar().week instead.\n",
      "  df_visits['session_week']  = df_visits['start_ts'].dt.week\n"
     ]
    }
   ],
   "source": [
    "df_visits['session_year']  = df_visits['start_ts'].dt.year\n",
    "df_visits['session_month'] = df_visits['start_ts'].dt.month\n",
    "df_visits['session_week']  = df_visits['start_ts'].dt.week\n",
    "df_visits['session_date'] = df_visits['start_ts'].dt.date"
   ]
  },
  {
   "cell_type": "code",
   "execution_count": 23,
   "metadata": {},
   "outputs": [],
   "source": [
    "dau_total = df_visits.groupby('session_date').agg({'uid': 'nunique'}).mean()\n",
    "wau_total = df_visits.groupby(['session_year', 'session_week']).agg({'uid': 'nunique'}).mean()\n",
    "mau_total = df_visits.groupby(['session_year', 'session_month']).agg({'uid': 'nunique'}).mean()"
   ]
  },
  {
   "cell_type": "code",
   "execution_count": 24,
   "metadata": {},
   "outputs": [
    {
     "data": {
      "text/plain": [
       "uid    907.991758\n",
       "dtype: float64"
      ]
     },
     "execution_count": 24,
     "metadata": {},
     "output_type": "execute_result"
    }
   ],
   "source": [
    "dau_total"
   ]
  },
  {
   "cell_type": "code",
   "execution_count": 25,
   "metadata": {},
   "outputs": [
    {
     "data": {
      "text/plain": [
       "uid    5716.245283\n",
       "dtype: float64"
      ]
     },
     "execution_count": 25,
     "metadata": {},
     "output_type": "execute_result"
    }
   ],
   "source": [
    "wau_total"
   ]
  },
  {
   "cell_type": "code",
   "execution_count": 26,
   "metadata": {},
   "outputs": [
    {
     "data": {
      "text/plain": [
       "uid    23228.416667\n",
       "dtype: float64"
      ]
     },
     "execution_count": 26,
     "metadata": {},
     "output_type": "execute_result"
    }
   ],
   "source": [
    "mau_total"
   ]
  },
  {
   "cell_type": "markdown",
   "metadata": {},
   "source": [
    "The number of people using the product daily is 907, weekly is 5,716, and monthly is 23,228."
   ]
  },
  {
   "cell_type": "markdown",
   "metadata": {},
   "source": [
    "### Determine the Number of Sessions per Day"
   ]
  },
  {
   "cell_type": "code",
   "execution_count": 27,
   "metadata": {},
   "outputs": [
    {
     "data": {
      "text/html": [
       "<div>\n",
       "<style scoped>\n",
       "    .dataframe tbody tr th:only-of-type {\n",
       "        vertical-align: middle;\n",
       "    }\n",
       "\n",
       "    .dataframe tbody tr th {\n",
       "        vertical-align: top;\n",
       "    }\n",
       "\n",
       "    .dataframe thead th {\n",
       "        text-align: right;\n",
       "    }\n",
       "</style>\n",
       "<table border=\"1\" class=\"dataframe\">\n",
       "  <thead>\n",
       "    <tr style=\"text-align: right;\">\n",
       "      <th></th>\n",
       "      <th>n_sessions</th>\n",
       "      <th>n_users</th>\n",
       "      <th>sessions_per_user</th>\n",
       "    </tr>\n",
       "    <tr>\n",
       "      <th>session_date</th>\n",
       "      <th></th>\n",
       "      <th></th>\n",
       "      <th></th>\n",
       "    </tr>\n",
       "  </thead>\n",
       "  <tbody>\n",
       "    <tr>\n",
       "      <th>2017-06-01</th>\n",
       "      <td>664</td>\n",
       "      <td>605</td>\n",
       "      <td>1.097521</td>\n",
       "    </tr>\n",
       "    <tr>\n",
       "      <th>2017-06-02</th>\n",
       "      <td>658</td>\n",
       "      <td>608</td>\n",
       "      <td>1.082237</td>\n",
       "    </tr>\n",
       "    <tr>\n",
       "      <th>2017-06-03</th>\n",
       "      <td>477</td>\n",
       "      <td>445</td>\n",
       "      <td>1.071910</td>\n",
       "    </tr>\n",
       "    <tr>\n",
       "      <th>2017-06-04</th>\n",
       "      <td>510</td>\n",
       "      <td>476</td>\n",
       "      <td>1.071429</td>\n",
       "    </tr>\n",
       "    <tr>\n",
       "      <th>2017-06-05</th>\n",
       "      <td>893</td>\n",
       "      <td>820</td>\n",
       "      <td>1.089024</td>\n",
       "    </tr>\n",
       "    <tr>\n",
       "      <th>...</th>\n",
       "      <td>...</td>\n",
       "      <td>...</td>\n",
       "      <td>...</td>\n",
       "    </tr>\n",
       "    <tr>\n",
       "      <th>2018-05-27</th>\n",
       "      <td>672</td>\n",
       "      <td>620</td>\n",
       "      <td>1.083871</td>\n",
       "    </tr>\n",
       "    <tr>\n",
       "      <th>2018-05-28</th>\n",
       "      <td>1156</td>\n",
       "      <td>1039</td>\n",
       "      <td>1.112608</td>\n",
       "    </tr>\n",
       "    <tr>\n",
       "      <th>2018-05-29</th>\n",
       "      <td>1035</td>\n",
       "      <td>948</td>\n",
       "      <td>1.091772</td>\n",
       "    </tr>\n",
       "    <tr>\n",
       "      <th>2018-05-30</th>\n",
       "      <td>1410</td>\n",
       "      <td>1289</td>\n",
       "      <td>1.093871</td>\n",
       "    </tr>\n",
       "    <tr>\n",
       "      <th>2018-05-31</th>\n",
       "      <td>2256</td>\n",
       "      <td>1997</td>\n",
       "      <td>1.129695</td>\n",
       "    </tr>\n",
       "  </tbody>\n",
       "</table>\n",
       "<p>364 rows × 3 columns</p>\n",
       "</div>"
      ],
      "text/plain": [
       "              n_sessions  n_users  sessions_per_user\n",
       "session_date                                        \n",
       "2017-06-01           664      605           1.097521\n",
       "2017-06-02           658      608           1.082237\n",
       "2017-06-03           477      445           1.071910\n",
       "2017-06-04           510      476           1.071429\n",
       "2017-06-05           893      820           1.089024\n",
       "...                  ...      ...                ...\n",
       "2018-05-27           672      620           1.083871\n",
       "2018-05-28          1156     1039           1.112608\n",
       "2018-05-29          1035      948           1.091772\n",
       "2018-05-30          1410     1289           1.093871\n",
       "2018-05-31          2256     1997           1.129695\n",
       "\n",
       "[364 rows x 3 columns]"
      ]
     },
     "execution_count": 27,
     "metadata": {},
     "output_type": "execute_result"
    }
   ],
   "source": [
    "sessions_per_day = df_visits.groupby(['session_date']).agg(\n",
    "    {'uid': ['count', 'nunique']}\n",
    ")\n",
    "sessions_per_day.columns = ['n_sessions', 'n_users']\n",
    "sessions_per_day['sessions_per_user'] = (\n",
    "    sessions_per_day['n_sessions'] / sessions_per_day['n_users']\n",
    ")\n",
    "sessions_per_day"
   ]
  },
  {
   "cell_type": "code",
   "execution_count": 28,
   "metadata": {},
   "outputs": [
    {
     "data": {
      "text/plain": [
       "<AxesSubplot:xlabel='session_date'>"
      ]
     },
     "execution_count": 28,
     "metadata": {},
     "output_type": "execute_result"
    },
    {
     "data": {
      "image/png": "[encoded data removed]",
      "text/plain": [
       "<Figure size 864x504 with 1 Axes>"
      ]
     },
     "metadata": {
      "needs_background": "light"
     },
     "output_type": "display_data"
    }
   ],
   "source": [
    "sessions_per_day['sessions_per_user'].plot(kind='line', figsize=(12, 7))"
   ]
  },
  {
   "cell_type": "markdown",
   "metadata": {},
   "source": [
    "The average number of sessions per user tends to be around 1, indicating that most users have one session per day, with a higher frequency towards the end of the year."
   ]
  },
  {
   "cell_type": "markdown",
   "metadata": {},
   "source": [
    "### Determine the Duration of Each Session"
   ]
  },
  {
   "cell_type": "code",
   "execution_count": 29,
   "metadata": {},
   "outputs": [
    {
     "data": {
      "text/plain": [
       "643.0422873805642"
      ]
     },
     "execution_count": 29,
     "metadata": {},
     "output_type": "execute_result"
    }
   ],
   "source": [
    "df_visits['session_duration_sec'] = (df_visits['end_ts'] - df_visits['start_ts']).dt.seconds\n",
    "df_visits['session_duration_sec'].mean()"
   ]
  },
  {
   "cell_type": "code",
   "execution_count": 30,
   "metadata": {},
   "outputs": [
    {
     "data": {
      "text/plain": [
       "<AxesSubplot:>"
      ]
     },
     "execution_count": 30,
     "metadata": {},
     "output_type": "execute_result"
    },
    {
     "data": {
      "image/png": "[encoded data removed]",
      "text/plain": [
       "<Figure size 432x288 with 1 Axes>"
      ]
     },
     "metadata": {
      "needs_background": "light"
     },
     "output_type": "display_data"
    }
   ],
   "source": [
    "df_visits['session_duration_sec'].hist(bins=100)"
   ]
  },
  {
   "cell_type": "code",
   "execution_count": 31,
   "metadata": {},
   "outputs": [
    {
     "data": {
      "text/plain": [
       "0    60\n",
       "dtype: int64"
      ]
     },
     "execution_count": 31,
     "metadata": {},
     "output_type": "execute_result"
    }
   ],
   "source": [
    "asl = df_visits['session_duration_sec'].mode()\n",
    "asl"
   ]
  },
  {
   "cell_type": "markdown",
   "metadata": {},
   "source": [
    "The average duration per session is 643 seconds, or approximately 10 to 11 minutes."
   ]
  },
  {
   "cell_type": "markdown",
   "metadata": {},
   "source": [
    "### Determine How Frequently Users Return to Use the Product"
   ]
  },
  {
   "cell_type": "code",
   "execution_count": 32,
   "metadata": {},
   "outputs": [
    {
     "data": {
      "text/plain": [
       "uid    15.884409\n",
       "dtype: float64"
      ]
     },
     "execution_count": 32,
     "metadata": {},
     "output_type": "execute_result"
    }
   ],
   "source": [
    "sticky_wau = dau_total / wau_total * 100\n",
    "sticky_wau"
   ]
  },
  {
   "cell_type": "code",
   "execution_count": 33,
   "metadata": {},
   "outputs": [
    {
     "data": {
      "text/plain": [
       "uid    3.90897\n",
       "dtype: float64"
      ]
     },
     "execution_count": 33,
     "metadata": {},
     "output_type": "execute_result"
    }
   ],
   "source": [
    "sticky_mau = dau_total / mau_total * 100\n",
    "sticky_mau"
   ]
  },
  {
   "cell_type": "markdown",
   "metadata": {},
   "source": [
    "Weekly active users constitute 15% of the user base, while monthly active users make up 3%. The number is gradually decreasing."
   ]
  },
  {
   "cell_type": "markdown",
   "metadata": {},
   "source": [
    "## Sales\n",
    "\n",
    "### Determine When Users Start Making Purchases"
   ]
  },
  {
   "cell_type": "code",
   "execution_count": 34,
   "metadata": {},
   "outputs": [
    {
     "data": {
      "text/html": [
       "<div>\n",
       "<style scoped>\n",
       "    .dataframe tbody tr th:only-of-type {\n",
       "        vertical-align: middle;\n",
       "    }\n",
       "\n",
       "    .dataframe tbody tr th {\n",
       "        vertical-align: top;\n",
       "    }\n",
       "\n",
       "    .dataframe thead th {\n",
       "        text-align: right;\n",
       "    }\n",
       "</style>\n",
       "<table border=\"1\" class=\"dataframe\">\n",
       "  <thead>\n",
       "    <tr style=\"text-align: right;\">\n",
       "      <th></th>\n",
       "      <th>device</th>\n",
       "      <th>end_ts</th>\n",
       "      <th>source_id</th>\n",
       "      <th>start_ts</th>\n",
       "      <th>uid</th>\n",
       "      <th>session_year</th>\n",
       "      <th>session_month</th>\n",
       "      <th>session_week</th>\n",
       "      <th>session_date</th>\n",
       "      <th>session_duration_sec</th>\n",
       "    </tr>\n",
       "  </thead>\n",
       "  <tbody>\n",
       "    <tr>\n",
       "      <th>0</th>\n",
       "      <td>touch</td>\n",
       "      <td>2017-12-20 17:38:00</td>\n",
       "      <td>4</td>\n",
       "      <td>2017-12-20 17:20:00</td>\n",
       "      <td>16879256277535980062</td>\n",
       "      <td>2017</td>\n",
       "      <td>12</td>\n",
       "      <td>51</td>\n",
       "      <td>2017-12-20</td>\n",
       "      <td>1080</td>\n",
       "    </tr>\n",
       "    <tr>\n",
       "      <th>1</th>\n",
       "      <td>desktop</td>\n",
       "      <td>2018-02-19 17:21:00</td>\n",
       "      <td>2</td>\n",
       "      <td>2018-02-19 16:53:00</td>\n",
       "      <td>104060357244891740</td>\n",
       "      <td>2018</td>\n",
       "      <td>2</td>\n",
       "      <td>8</td>\n",
       "      <td>2018-02-19</td>\n",
       "      <td>1680</td>\n",
       "    </tr>\n",
       "    <tr>\n",
       "      <th>2</th>\n",
       "      <td>touch</td>\n",
       "      <td>2017-07-01 01:54:00</td>\n",
       "      <td>5</td>\n",
       "      <td>2017-07-01 01:54:00</td>\n",
       "      <td>7459035603376831527</td>\n",
       "      <td>2017</td>\n",
       "      <td>7</td>\n",
       "      <td>26</td>\n",
       "      <td>2017-07-01</td>\n",
       "      <td>0</td>\n",
       "    </tr>\n",
       "    <tr>\n",
       "      <th>3</th>\n",
       "      <td>desktop</td>\n",
       "      <td>2018-05-20 11:23:00</td>\n",
       "      <td>9</td>\n",
       "      <td>2018-05-20 10:59:00</td>\n",
       "      <td>16174680259334210214</td>\n",
       "      <td>2018</td>\n",
       "      <td>5</td>\n",
       "      <td>20</td>\n",
       "      <td>2018-05-20</td>\n",
       "      <td>1440</td>\n",
       "    </tr>\n",
       "    <tr>\n",
       "      <th>4</th>\n",
       "      <td>desktop</td>\n",
       "      <td>2017-12-27 14:06:00</td>\n",
       "      <td>3</td>\n",
       "      <td>2017-12-27 14:06:00</td>\n",
       "      <td>9969694820036681168</td>\n",
       "      <td>2017</td>\n",
       "      <td>12</td>\n",
       "      <td>52</td>\n",
       "      <td>2017-12-27</td>\n",
       "      <td>0</td>\n",
       "    </tr>\n",
       "  </tbody>\n",
       "</table>\n",
       "</div>"
      ],
      "text/plain": [
       "    device              end_ts  source_id            start_ts  \\\n",
       "0    touch 2017-12-20 17:38:00          4 2017-12-20 17:20:00   \n",
       "1  desktop 2018-02-19 17:21:00          2 2018-02-19 16:53:00   \n",
       "2    touch 2017-07-01 01:54:00          5 2017-07-01 01:54:00   \n",
       "3  desktop 2018-05-20 11:23:00          9 2018-05-20 10:59:00   \n",
       "4  desktop 2017-12-27 14:06:00          3 2017-12-27 14:06:00   \n",
       "\n",
       "                    uid  session_year  session_month  session_week  \\\n",
       "0  16879256277535980062          2017             12            51   \n",
       "1    104060357244891740          2018              2             8   \n",
       "2   7459035603376831527          2017              7            26   \n",
       "3  16174680259334210214          2018              5            20   \n",
       "4   9969694820036681168          2017             12            52   \n",
       "\n",
       "  session_date  session_duration_sec  \n",
       "0   2017-12-20                  1080  \n",
       "1   2018-02-19                  1680  \n",
       "2   2017-07-01                     0  \n",
       "3   2018-05-20                  1440  \n",
       "4   2017-12-27                     0  "
      ]
     },
     "execution_count": 34,
     "metadata": {},
     "output_type": "execute_result"
    }
   ],
   "source": [
    "df_visits.head(5)"
   ]
  },
  {
   "cell_type": "code",
   "execution_count": 35,
   "metadata": {},
   "outputs": [
    {
     "data": {
      "text/html": [
       "<div>\n",
       "<style scoped>\n",
       "    .dataframe tbody tr th:only-of-type {\n",
       "        vertical-align: middle;\n",
       "    }\n",
       "\n",
       "    .dataframe tbody tr th {\n",
       "        vertical-align: top;\n",
       "    }\n",
       "\n",
       "    .dataframe thead th {\n",
       "        text-align: right;\n",
       "    }\n",
       "</style>\n",
       "<table border=\"1\" class=\"dataframe\">\n",
       "  <thead>\n",
       "    <tr style=\"text-align: right;\">\n",
       "      <th></th>\n",
       "      <th>uid</th>\n",
       "      <th>first_session_start</th>\n",
       "      <th>first_session_dt</th>\n",
       "      <th>first_session_week</th>\n",
       "      <th>first_session_month</th>\n",
       "      <th>first_session_year</th>\n",
       "    </tr>\n",
       "  </thead>\n",
       "  <tbody>\n",
       "    <tr>\n",
       "      <th>5605</th>\n",
       "      <td>460731787907429419</td>\n",
       "      <td>2017-08-21 13:44:00</td>\n",
       "      <td>2017-08-21</td>\n",
       "      <td>2017-08-17</td>\n",
       "      <td>2017-08-01</td>\n",
       "      <td>2017-01-01</td>\n",
       "    </tr>\n",
       "  </tbody>\n",
       "</table>\n",
       "</div>"
      ],
      "text/plain": [
       "                     uid first_session_start first_session_dt  \\\n",
       "5605  460731787907429419 2017-08-21 13:44:00       2017-08-21   \n",
       "\n",
       "     first_session_week first_session_month first_session_year  \n",
       "5605         2017-08-17          2017-08-01         2017-01-01  "
      ]
     },
     "execution_count": 35,
     "metadata": {},
     "output_type": "execute_result"
    }
   ],
   "source": [
    "first_visits = df_visits.groupby('uid').agg({'start_ts':'min'}).reset_index()\n",
    "first_visits.columns = ['uid', 'first_session_start']\n",
    "first_visits['first_session_dt'] = first_visits['first_session_start'].dt.date\n",
    "first_visits['first_session_week'] = first_visits['first_session_start'].astype('datetime64[W]')\n",
    "first_visits['first_session_month'] = first_visits['first_session_start'].astype('datetime64[M]')\n",
    "first_visits['first_session_year'] = first_visits['first_session_start'].astype('datetime64[Y]')\n",
    "first_visits.sample()"
   ]
  },
  {
   "cell_type": "code",
   "execution_count": 36,
   "metadata": {},
   "outputs": [
    {
     "data": {
      "text/html": [
       "<div>\n",
       "<style scoped>\n",
       "    .dataframe tbody tr th:only-of-type {\n",
       "        vertical-align: middle;\n",
       "    }\n",
       "\n",
       "    .dataframe tbody tr th {\n",
       "        vertical-align: top;\n",
       "    }\n",
       "\n",
       "    .dataframe thead th {\n",
       "        text-align: right;\n",
       "    }\n",
       "</style>\n",
       "<table border=\"1\" class=\"dataframe\">\n",
       "  <thead>\n",
       "    <tr style=\"text-align: right;\">\n",
       "      <th></th>\n",
       "      <th>buy_ts</th>\n",
       "      <th>revenue</th>\n",
       "      <th>uid</th>\n",
       "    </tr>\n",
       "  </thead>\n",
       "  <tbody>\n",
       "    <tr>\n",
       "      <th>0</th>\n",
       "      <td>2017-06-01 00:10:00</td>\n",
       "      <td>17.00</td>\n",
       "      <td>10329302124590727494</td>\n",
       "    </tr>\n",
       "    <tr>\n",
       "      <th>1</th>\n",
       "      <td>2017-06-01 00:25:00</td>\n",
       "      <td>0.55</td>\n",
       "      <td>11627257723692907447</td>\n",
       "    </tr>\n",
       "    <tr>\n",
       "      <th>2</th>\n",
       "      <td>2017-06-01 00:27:00</td>\n",
       "      <td>0.37</td>\n",
       "      <td>17903680561304213844</td>\n",
       "    </tr>\n",
       "    <tr>\n",
       "      <th>3</th>\n",
       "      <td>2017-06-01 00:29:00</td>\n",
       "      <td>0.55</td>\n",
       "      <td>16109239769442553005</td>\n",
       "    </tr>\n",
       "    <tr>\n",
       "      <th>4</th>\n",
       "      <td>2017-06-01 07:58:00</td>\n",
       "      <td>0.37</td>\n",
       "      <td>14200605875248379450</td>\n",
       "    </tr>\n",
       "  </tbody>\n",
       "</table>\n",
       "</div>"
      ],
      "text/plain": [
       "               buy_ts  revenue                   uid\n",
       "0 2017-06-01 00:10:00    17.00  10329302124590727494\n",
       "1 2017-06-01 00:25:00     0.55  11627257723692907447\n",
       "2 2017-06-01 00:27:00     0.37  17903680561304213844\n",
       "3 2017-06-01 00:29:00     0.55  16109239769442553005\n",
       "4 2017-06-01 07:58:00     0.37  14200605875248379450"
      ]
     },
     "execution_count": 36,
     "metadata": {},
     "output_type": "execute_result"
    }
   ],
   "source": [
    "df_orders.head(5)"
   ]
  },
  {
   "cell_type": "code",
   "execution_count": 37,
   "metadata": {},
   "outputs": [
    {
     "data": {
      "text/html": [
       "<div>\n",
       "<style scoped>\n",
       "    .dataframe tbody tr th:only-of-type {\n",
       "        vertical-align: middle;\n",
       "    }\n",
       "\n",
       "    .dataframe tbody tr th {\n",
       "        vertical-align: top;\n",
       "    }\n",
       "\n",
       "    .dataframe thead th {\n",
       "        text-align: right;\n",
       "    }\n",
       "</style>\n",
       "<table border=\"1\" class=\"dataframe\">\n",
       "  <thead>\n",
       "    <tr style=\"text-align: right;\">\n",
       "      <th></th>\n",
       "      <th>uid</th>\n",
       "      <th>buy_ts</th>\n",
       "    </tr>\n",
       "  </thead>\n",
       "  <tbody>\n",
       "    <tr>\n",
       "      <th>3391</th>\n",
       "      <td>1725461983571535779</td>\n",
       "      <td>2017-06-28 08:45:00</td>\n",
       "    </tr>\n",
       "    <tr>\n",
       "      <th>16760</th>\n",
       "      <td>8416950611158721809</td>\n",
       "      <td>2018-04-15 19:10:00</td>\n",
       "    </tr>\n",
       "    <tr>\n",
       "      <th>11717</th>\n",
       "      <td>5870455001698166379</td>\n",
       "      <td>2017-11-28 23:04:00</td>\n",
       "    </tr>\n",
       "    <tr>\n",
       "      <th>2322</th>\n",
       "      <td>1194240303643295084</td>\n",
       "      <td>2017-12-14 12:04:00</td>\n",
       "    </tr>\n",
       "    <tr>\n",
       "      <th>4179</th>\n",
       "      <td>2111366202046444790</td>\n",
       "      <td>2017-10-21 23:38:00</td>\n",
       "    </tr>\n",
       "  </tbody>\n",
       "</table>\n",
       "</div>"
      ],
      "text/plain": [
       "                       uid              buy_ts\n",
       "3391   1725461983571535779 2017-06-28 08:45:00\n",
       "16760  8416950611158721809 2018-04-15 19:10:00\n",
       "11717  5870455001698166379 2017-11-28 23:04:00\n",
       "2322   1194240303643295084 2017-12-14 12:04:00\n",
       "4179   2111366202046444790 2017-10-21 23:38:00"
      ]
     },
     "execution_count": 37,
     "metadata": {},
     "output_type": "execute_result"
    }
   ],
   "source": [
    "first_order = df_orders.groupby('uid').agg({'buy_ts': 'min'}).reset_index()\n",
    "first_order.sample(5)"
   ]
  },
  {
   "cell_type": "code",
   "execution_count": 38,
   "metadata": {},
   "outputs": [
    {
     "data": {
      "text/html": [
       "<div>\n",
       "<style scoped>\n",
       "    .dataframe tbody tr th:only-of-type {\n",
       "        vertical-align: middle;\n",
       "    }\n",
       "\n",
       "    .dataframe tbody tr th {\n",
       "        vertical-align: top;\n",
       "    }\n",
       "\n",
       "    .dataframe thead th {\n",
       "        text-align: right;\n",
       "    }\n",
       "</style>\n",
       "<table border=\"1\" class=\"dataframe\">\n",
       "  <thead>\n",
       "    <tr style=\"text-align: right;\">\n",
       "      <th></th>\n",
       "      <th>uid</th>\n",
       "      <th>first_order_ts</th>\n",
       "      <th>first_order_date</th>\n",
       "      <th>first_order_month</th>\n",
       "      <th>first_order_week</th>\n",
       "    </tr>\n",
       "  </thead>\n",
       "  <tbody>\n",
       "    <tr>\n",
       "      <th>24922</th>\n",
       "      <td>12588881524554545415</td>\n",
       "      <td>2017-12-17 15:55:00</td>\n",
       "      <td>2017-12-17</td>\n",
       "      <td>2017-12-01</td>\n",
       "      <td>2017-12-14</td>\n",
       "    </tr>\n",
       "    <tr>\n",
       "      <th>1996</th>\n",
       "      <td>1034860357122198669</td>\n",
       "      <td>2017-12-10 04:09:00</td>\n",
       "      <td>2017-12-10</td>\n",
       "      <td>2017-12-01</td>\n",
       "      <td>2017-12-07</td>\n",
       "    </tr>\n",
       "    <tr>\n",
       "      <th>22793</th>\n",
       "      <td>11517961076720705434</td>\n",
       "      <td>2018-05-29 15:27:00</td>\n",
       "      <td>2018-05-29</td>\n",
       "      <td>2018-05-01</td>\n",
       "      <td>2018-05-24</td>\n",
       "    </tr>\n",
       "    <tr>\n",
       "      <th>28860</th>\n",
       "      <td>14567367368690425986</td>\n",
       "      <td>2017-09-21 19:32:00</td>\n",
       "      <td>2017-09-21</td>\n",
       "      <td>2017-09-01</td>\n",
       "      <td>2017-09-21</td>\n",
       "    </tr>\n",
       "    <tr>\n",
       "      <th>28113</th>\n",
       "      <td>14207085829699747773</td>\n",
       "      <td>2017-12-11 10:43:00</td>\n",
       "      <td>2017-12-11</td>\n",
       "      <td>2017-12-01</td>\n",
       "      <td>2017-12-07</td>\n",
       "    </tr>\n",
       "  </tbody>\n",
       "</table>\n",
       "</div>"
      ],
      "text/plain": [
       "                        uid      first_order_ts first_order_date  \\\n",
       "24922  12588881524554545415 2017-12-17 15:55:00       2017-12-17   \n",
       "1996    1034860357122198669 2017-12-10 04:09:00       2017-12-10   \n",
       "22793  11517961076720705434 2018-05-29 15:27:00       2018-05-29   \n",
       "28860  14567367368690425986 2017-09-21 19:32:00       2017-09-21   \n",
       "28113  14207085829699747773 2017-12-11 10:43:00       2017-12-11   \n",
       "\n",
       "      first_order_month first_order_week  \n",
       "24922        2017-12-01       2017-12-14  \n",
       "1996         2017-12-01       2017-12-07  \n",
       "22793        2018-05-01       2018-05-24  \n",
       "28860        2017-09-01       2017-09-21  \n",
       "28113        2017-12-01       2017-12-07  "
      ]
     },
     "execution_count": 38,
     "metadata": {},
     "output_type": "execute_result"
    }
   ],
   "source": [
    "first_order.columns = ['uid', 'first_order_ts']\n",
    "first_order['first_order_date'] = first_order['first_order_ts'].dt.date\n",
    "first_order['first_order_month'] = first_order['first_order_ts'].astype('datetime64[M]')\n",
    "first_order['first_order_week'] = first_order['first_order_ts'].astype('datetime64[W]')\n",
    "first_order.sample(5)"
   ]
  },
  {
   "cell_type": "code",
   "execution_count": 39,
   "metadata": {},
   "outputs": [
    {
     "data": {
      "text/html": [
       "<div>\n",
       "<style scoped>\n",
       "    .dataframe tbody tr th:only-of-type {\n",
       "        vertical-align: middle;\n",
       "    }\n",
       "\n",
       "    .dataframe tbody tr th {\n",
       "        vertical-align: top;\n",
       "    }\n",
       "\n",
       "    .dataframe thead th {\n",
       "        text-align: right;\n",
       "    }\n",
       "</style>\n",
       "<table border=\"1\" class=\"dataframe\">\n",
       "  <thead>\n",
       "    <tr style=\"text-align: right;\">\n",
       "      <th></th>\n",
       "      <th>uid</th>\n",
       "      <th>first_session_start</th>\n",
       "      <th>first_session_dt</th>\n",
       "      <th>first_session_week</th>\n",
       "      <th>first_session_month</th>\n",
       "      <th>first_session_year</th>\n",
       "      <th>first_order_ts</th>\n",
       "      <th>first_order_date</th>\n",
       "      <th>first_order_month</th>\n",
       "      <th>first_order_week</th>\n",
       "    </tr>\n",
       "  </thead>\n",
       "  <tbody>\n",
       "    <tr>\n",
       "      <th>10434</th>\n",
       "      <td>5243861686670050210</td>\n",
       "      <td>2017-08-26 19:56:00</td>\n",
       "      <td>2017-08-26</td>\n",
       "      <td>2017-08-24</td>\n",
       "      <td>2017-08-01</td>\n",
       "      <td>2017-01-01</td>\n",
       "      <td>2017-08-27 10:28:00</td>\n",
       "      <td>2017-08-27</td>\n",
       "      <td>2017-08-01</td>\n",
       "      <td>2017-08-24</td>\n",
       "    </tr>\n",
       "    <tr>\n",
       "      <th>2000</th>\n",
       "      <td>1037515234313499886</td>\n",
       "      <td>2018-02-13 20:21:00</td>\n",
       "      <td>2018-02-13</td>\n",
       "      <td>2018-02-08</td>\n",
       "      <td>2018-02-01</td>\n",
       "      <td>2018-01-01</td>\n",
       "      <td>2018-02-13 20:23:00</td>\n",
       "      <td>2018-02-13</td>\n",
       "      <td>2018-02-01</td>\n",
       "      <td>2018-02-08</td>\n",
       "    </tr>\n",
       "    <tr>\n",
       "      <th>20311</th>\n",
       "      <td>10265455748681672003</td>\n",
       "      <td>2018-01-10 18:15:00</td>\n",
       "      <td>2018-01-10</td>\n",
       "      <td>2018-01-04</td>\n",
       "      <td>2018-01-01</td>\n",
       "      <td>2018-01-01</td>\n",
       "      <td>2018-01-10 19:28:00</td>\n",
       "      <td>2018-01-10</td>\n",
       "      <td>2018-01-01</td>\n",
       "      <td>2018-01-04</td>\n",
       "    </tr>\n",
       "    <tr>\n",
       "      <th>24182</th>\n",
       "      <td>12231908034358510243</td>\n",
       "      <td>2017-06-04 19:34:00</td>\n",
       "      <td>2017-06-04</td>\n",
       "      <td>2017-06-01</td>\n",
       "      <td>2017-06-01</td>\n",
       "      <td>2017-01-01</td>\n",
       "      <td>2017-06-04 19:50:00</td>\n",
       "      <td>2017-06-04</td>\n",
       "      <td>2017-06-01</td>\n",
       "      <td>2017-06-01</td>\n",
       "    </tr>\n",
       "    <tr>\n",
       "      <th>36380</th>\n",
       "      <td>18369762445239083848</td>\n",
       "      <td>2017-10-20 19:10:00</td>\n",
       "      <td>2017-10-20</td>\n",
       "      <td>2017-10-19</td>\n",
       "      <td>2017-10-01</td>\n",
       "      <td>2017-01-01</td>\n",
       "      <td>2017-10-20 19:14:00</td>\n",
       "      <td>2017-10-20</td>\n",
       "      <td>2017-10-01</td>\n",
       "      <td>2017-10-19</td>\n",
       "    </tr>\n",
       "  </tbody>\n",
       "</table>\n",
       "</div>"
      ],
      "text/plain": [
       "                        uid first_session_start first_session_dt  \\\n",
       "10434   5243861686670050210 2017-08-26 19:56:00       2017-08-26   \n",
       "2000    1037515234313499886 2018-02-13 20:21:00       2018-02-13   \n",
       "20311  10265455748681672003 2018-01-10 18:15:00       2018-01-10   \n",
       "24182  12231908034358510243 2017-06-04 19:34:00       2017-06-04   \n",
       "36380  18369762445239083848 2017-10-20 19:10:00       2017-10-20   \n",
       "\n",
       "      first_session_week first_session_month first_session_year  \\\n",
       "10434         2017-08-24          2017-08-01         2017-01-01   \n",
       "2000          2018-02-08          2018-02-01         2018-01-01   \n",
       "20311         2018-01-04          2018-01-01         2018-01-01   \n",
       "24182         2017-06-01          2017-06-01         2017-01-01   \n",
       "36380         2017-10-19          2017-10-01         2017-01-01   \n",
       "\n",
       "           first_order_ts first_order_date first_order_month first_order_week  \n",
       "10434 2017-08-27 10:28:00       2017-08-27        2017-08-01       2017-08-24  \n",
       "2000  2018-02-13 20:23:00       2018-02-13        2018-02-01       2018-02-08  \n",
       "20311 2018-01-10 19:28:00       2018-01-10        2018-01-01       2018-01-04  \n",
       "24182 2017-06-04 19:50:00       2017-06-04        2017-06-01       2017-06-01  \n",
       "36380 2017-10-20 19:14:00       2017-10-20        2017-10-01       2017-10-19  "
      ]
     },
     "execution_count": 39,
     "metadata": {},
     "output_type": "execute_result"
    }
   ],
   "source": [
    "first_buy = pd.merge(first_visits, first_order, on='uid')\n",
    "first_buy.sample(5)"
   ]
  },
  {
   "cell_type": "code",
   "execution_count": 40,
   "metadata": {},
   "outputs": [
    {
     "data": {
      "text/html": [
       "<div>\n",
       "<style scoped>\n",
       "    .dataframe tbody tr th:only-of-type {\n",
       "        vertical-align: middle;\n",
       "    }\n",
       "\n",
       "    .dataframe tbody tr th {\n",
       "        vertical-align: top;\n",
       "    }\n",
       "\n",
       "    .dataframe thead th {\n",
       "        text-align: right;\n",
       "    }\n",
       "</style>\n",
       "<table border=\"1\" class=\"dataframe\">\n",
       "  <thead>\n",
       "    <tr style=\"text-align: right;\">\n",
       "      <th></th>\n",
       "      <th>uid</th>\n",
       "      <th>first_session_start</th>\n",
       "      <th>first_session_dt</th>\n",
       "      <th>first_session_week</th>\n",
       "      <th>first_session_month</th>\n",
       "      <th>first_session_year</th>\n",
       "      <th>first_order_ts</th>\n",
       "      <th>first_order_date</th>\n",
       "      <th>first_order_month</th>\n",
       "      <th>first_order_week</th>\n",
       "      <th>first_session_date</th>\n",
       "      <th>first_day_purchase</th>\n",
       "    </tr>\n",
       "  </thead>\n",
       "  <tbody>\n",
       "    <tr>\n",
       "      <th>35047</th>\n",
       "      <td>17686151873866323775</td>\n",
       "      <td>2017-10-30 01:19:00</td>\n",
       "      <td>2017-10-30</td>\n",
       "      <td>2017-10-26</td>\n",
       "      <td>2017-10-01</td>\n",
       "      <td>2017-01-01</td>\n",
       "      <td>2017-10-30 01:22:00</td>\n",
       "      <td>2017-10-30</td>\n",
       "      <td>2017-10-01</td>\n",
       "      <td>2017-10-26</td>\n",
       "      <td>2017-10-30</td>\n",
       "      <td>0</td>\n",
       "    </tr>\n",
       "    <tr>\n",
       "      <th>18814</th>\n",
       "      <td>9520901852760616220</td>\n",
       "      <td>2017-11-01 20:52:00</td>\n",
       "      <td>2017-11-01</td>\n",
       "      <td>2017-10-26</td>\n",
       "      <td>2017-11-01</td>\n",
       "      <td>2017-01-01</td>\n",
       "      <td>2017-11-02 01:51:00</td>\n",
       "      <td>2017-11-02</td>\n",
       "      <td>2017-11-01</td>\n",
       "      <td>2017-11-02</td>\n",
       "      <td>2017-11-01</td>\n",
       "      <td>1</td>\n",
       "    </tr>\n",
       "    <tr>\n",
       "      <th>34083</th>\n",
       "      <td>17221455572944295464</td>\n",
       "      <td>2017-11-21 07:04:00</td>\n",
       "      <td>2017-11-21</td>\n",
       "      <td>2017-11-16</td>\n",
       "      <td>2017-11-01</td>\n",
       "      <td>2017-01-01</td>\n",
       "      <td>2018-01-26 20:05:00</td>\n",
       "      <td>2018-01-26</td>\n",
       "      <td>2018-01-01</td>\n",
       "      <td>2018-01-25</td>\n",
       "      <td>2017-11-21</td>\n",
       "      <td>66</td>\n",
       "    </tr>\n",
       "    <tr>\n",
       "      <th>1983</th>\n",
       "      <td>1028245305353219830</td>\n",
       "      <td>2017-12-25 20:13:00</td>\n",
       "      <td>2017-12-25</td>\n",
       "      <td>2017-12-21</td>\n",
       "      <td>2017-12-01</td>\n",
       "      <td>2017-01-01</td>\n",
       "      <td>2017-12-25 20:17:00</td>\n",
       "      <td>2017-12-25</td>\n",
       "      <td>2017-12-01</td>\n",
       "      <td>2017-12-21</td>\n",
       "      <td>2017-12-25</td>\n",
       "      <td>0</td>\n",
       "    </tr>\n",
       "    <tr>\n",
       "      <th>31280</th>\n",
       "      <td>15776296936818079873</td>\n",
       "      <td>2017-08-25 23:23:00</td>\n",
       "      <td>2017-08-25</td>\n",
       "      <td>2017-08-24</td>\n",
       "      <td>2017-08-01</td>\n",
       "      <td>2017-01-01</td>\n",
       "      <td>2017-08-26 08:41:00</td>\n",
       "      <td>2017-08-26</td>\n",
       "      <td>2017-08-01</td>\n",
       "      <td>2017-08-24</td>\n",
       "      <td>2017-08-25</td>\n",
       "      <td>1</td>\n",
       "    </tr>\n",
       "  </tbody>\n",
       "</table>\n",
       "</div>"
      ],
      "text/plain": [
       "                        uid first_session_start first_session_dt  \\\n",
       "35047  17686151873866323775 2017-10-30 01:19:00       2017-10-30   \n",
       "18814   9520901852760616220 2017-11-01 20:52:00       2017-11-01   \n",
       "34083  17221455572944295464 2017-11-21 07:04:00       2017-11-21   \n",
       "1983    1028245305353219830 2017-12-25 20:13:00       2017-12-25   \n",
       "31280  15776296936818079873 2017-08-25 23:23:00       2017-08-25   \n",
       "\n",
       "      first_session_week first_session_month first_session_year  \\\n",
       "35047         2017-10-26          2017-10-01         2017-01-01   \n",
       "18814         2017-10-26          2017-11-01         2017-01-01   \n",
       "34083         2017-11-16          2017-11-01         2017-01-01   \n",
       "1983          2017-12-21          2017-12-01         2017-01-01   \n",
       "31280         2017-08-24          2017-08-01         2017-01-01   \n",
       "\n",
       "           first_order_ts first_order_date first_order_month first_order_week  \\\n",
       "35047 2017-10-30 01:22:00       2017-10-30        2017-10-01       2017-10-26   \n",
       "18814 2017-11-02 01:51:00       2017-11-02        2017-11-01       2017-11-02   \n",
       "34083 2018-01-26 20:05:00       2018-01-26        2018-01-01       2018-01-25   \n",
       "1983  2017-12-25 20:17:00       2017-12-25        2017-12-01       2017-12-21   \n",
       "31280 2017-08-26 08:41:00       2017-08-26        2017-08-01       2017-08-24   \n",
       "\n",
       "      first_session_date  first_day_purchase  \n",
       "35047         2017-10-30                   0  \n",
       "18814         2017-11-01                   1  \n",
       "34083         2017-11-21                  66  \n",
       "1983          2017-12-25                   0  \n",
       "31280         2017-08-25                   1  "
      ]
     },
     "execution_count": 40,
     "metadata": {},
     "output_type": "execute_result"
    }
   ],
   "source": [
    "first_buy['first_order_date'] = pd.to_datetime(first_buy['first_order_date'])\n",
    "first_buy['first_session_date'] = pd.to_datetime(first_buy['first_session_dt'])\n",
    "first_buy['first_day_purchase'] = (first_buy['first_order_date'] - first_buy['first_session_date']).dt.days\n",
    "first_buy.sample(5)"
   ]
  },
  {
   "cell_type": "code",
   "execution_count": 41,
   "metadata": {},
   "outputs": [
    {
     "data": {
      "text/plain": [
       "<AxesSubplot:ylabel='Frequency'>"
      ]
     },
     "execution_count": 41,
     "metadata": {},
     "output_type": "execute_result"
    },
    {
     "data": {
      "image/png": "[encoded data removed]",
      "text/plain": [
       "<Figure size 864x504 with 1 Axes>"
      ]
     },
     "metadata": {
      "needs_background": "light"
     },
     "output_type": "display_data"
    }
   ],
   "source": [
    "first_buy['first_day_purchase'].plot(kind='hist', bins=100, figsize=(12, 7))"
   ]
  },
  {
   "cell_type": "markdown",
   "metadata": {},
   "source": [
    "On average, purchases are made directly by users during their first visit."
   ]
  },
  {
   "cell_type": "markdown",
   "metadata": {},
   "source": [
    "### Determine the Number of Orders They Place Over a Certain Period"
   ]
  },
  {
   "cell_type": "code",
   "execution_count": 42,
   "metadata": {},
   "outputs": [
    {
     "data": {
      "text/html": [
       "<div>\n",
       "<style scoped>\n",
       "    .dataframe tbody tr th:only-of-type {\n",
       "        vertical-align: middle;\n",
       "    }\n",
       "\n",
       "    .dataframe tbody tr th {\n",
       "        vertical-align: top;\n",
       "    }\n",
       "\n",
       "    .dataframe thead th {\n",
       "        text-align: right;\n",
       "    }\n",
       "</style>\n",
       "<table border=\"1\" class=\"dataframe\">\n",
       "  <thead>\n",
       "    <tr style=\"text-align: right;\">\n",
       "      <th></th>\n",
       "      <th>buy_ts</th>\n",
       "      <th>revenue</th>\n",
       "      <th>uid</th>\n",
       "      <th>order_date</th>\n",
       "      <th>order_week</th>\n",
       "      <th>order_month</th>\n",
       "      <th>order_year</th>\n",
       "    </tr>\n",
       "  </thead>\n",
       "  <tbody>\n",
       "    <tr>\n",
       "      <th>10260</th>\n",
       "      <td>2017-10-03 11:18:00</td>\n",
       "      <td>3.05</td>\n",
       "      <td>15610717196736678394</td>\n",
       "      <td>2017-10-03</td>\n",
       "      <td>2017-09-28</td>\n",
       "      <td>2017-10-01</td>\n",
       "      <td>2017</td>\n",
       "    </tr>\n",
       "    <tr>\n",
       "      <th>3836</th>\n",
       "      <td>2017-07-18 12:37:00</td>\n",
       "      <td>5.50</td>\n",
       "      <td>7359723915014664376</td>\n",
       "      <td>2017-07-18</td>\n",
       "      <td>2017-07-13</td>\n",
       "      <td>2017-07-01</td>\n",
       "      <td>2017</td>\n",
       "    </tr>\n",
       "    <tr>\n",
       "      <th>18513</th>\n",
       "      <td>2017-11-20 12:17:00</td>\n",
       "      <td>2.14</td>\n",
       "      <td>13004133563037332052</td>\n",
       "      <td>2017-11-20</td>\n",
       "      <td>2017-11-16</td>\n",
       "      <td>2017-11-01</td>\n",
       "      <td>2017</td>\n",
       "    </tr>\n",
       "    <tr>\n",
       "      <th>48948</th>\n",
       "      <td>2018-05-25 16:33:00</td>\n",
       "      <td>1.71</td>\n",
       "      <td>2745362967838573461</td>\n",
       "      <td>2018-05-25</td>\n",
       "      <td>2018-05-24</td>\n",
       "      <td>2018-05-01</td>\n",
       "      <td>2018</td>\n",
       "    </tr>\n",
       "    <tr>\n",
       "      <th>9676</th>\n",
       "      <td>2017-09-29 15:39:00</td>\n",
       "      <td>1.83</td>\n",
       "      <td>10828658107468187616</td>\n",
       "      <td>2017-09-29</td>\n",
       "      <td>2017-09-28</td>\n",
       "      <td>2017-09-01</td>\n",
       "      <td>2017</td>\n",
       "    </tr>\n",
       "  </tbody>\n",
       "</table>\n",
       "</div>"
      ],
      "text/plain": [
       "                   buy_ts  revenue                   uid  order_date  \\\n",
       "10260 2017-10-03 11:18:00     3.05  15610717196736678394  2017-10-03   \n",
       "3836  2017-07-18 12:37:00     5.50   7359723915014664376  2017-07-18   \n",
       "18513 2017-11-20 12:17:00     2.14  13004133563037332052  2017-11-20   \n",
       "48948 2018-05-25 16:33:00     1.71   2745362967838573461  2018-05-25   \n",
       "9676  2017-09-29 15:39:00     1.83  10828658107468187616  2017-09-29   \n",
       "\n",
       "      order_week order_month  order_year  \n",
       "10260 2017-09-28  2017-10-01        2017  \n",
       "3836  2017-07-13  2017-07-01        2017  \n",
       "18513 2017-11-16  2017-11-01        2017  \n",
       "48948 2018-05-24  2018-05-01        2018  \n",
       "9676  2017-09-28  2017-09-01        2017  "
      ]
     },
     "execution_count": 42,
     "metadata": {},
     "output_type": "execute_result"
    }
   ],
   "source": [
    "df_orders['order_date'] = df_orders['buy_ts'].dt.date\n",
    "df_orders['order_week'] = df_orders['buy_ts'].astype('datetime64[W]')\n",
    "df_orders['order_month'] = df_orders['buy_ts'].astype('datetime64[M]')\n",
    "df_orders['order_year'] = df_orders['buy_ts'].dt.year\n",
    "df_orders.sample(5)"
   ]
  },
  {
   "cell_type": "code",
   "execution_count": 43,
   "metadata": {},
   "outputs": [
    {
     "data": {
      "text/plain": [
       "<AxesSubplot:xlabel='order_month'>"
      ]
     },
     "execution_count": 43,
     "metadata": {},
     "output_type": "execute_result"
    },
    {
     "data": {
      "image/png": "[encoded data removed]",
      "text/plain": [
       "<Figure size 432x288 with 1 Axes>"
      ]
     },
     "metadata": {
      "needs_background": "light"
     },
     "output_type": "display_data"
    }
   ],
   "source": [
    "df_orders.groupby(['order_month']).agg({'buy_ts':'count', 'revenue': 'sum'}).plot()"
   ]
  },
  {
   "cell_type": "code",
   "execution_count": 44,
   "metadata": {},
   "outputs": [
    {
     "data": {
      "text/html": [
       "<div>\n",
       "<style scoped>\n",
       "    .dataframe tbody tr th:only-of-type {\n",
       "        vertical-align: middle;\n",
       "    }\n",
       "\n",
       "    .dataframe tbody tr th {\n",
       "        vertical-align: top;\n",
       "    }\n",
       "\n",
       "    .dataframe thead th {\n",
       "        text-align: right;\n",
       "    }\n",
       "</style>\n",
       "<table border=\"1\" class=\"dataframe\">\n",
       "  <thead>\n",
       "    <tr style=\"text-align: right;\">\n",
       "      <th></th>\n",
       "      <th>uid</th>\n",
       "      <th>revenue</th>\n",
       "    </tr>\n",
       "    <tr>\n",
       "      <th>order_year</th>\n",
       "      <th></th>\n",
       "      <th></th>\n",
       "    </tr>\n",
       "  </thead>\n",
       "  <tbody>\n",
       "    <tr>\n",
       "      <th>2017</th>\n",
       "      <td>27467</td>\n",
       "      <td>140647.48</td>\n",
       "    </tr>\n",
       "    <tr>\n",
       "      <th>2018</th>\n",
       "      <td>22948</td>\n",
       "      <td>111409.72</td>\n",
       "    </tr>\n",
       "  </tbody>\n",
       "</table>\n",
       "</div>"
      ],
      "text/plain": [
       "              uid    revenue\n",
       "order_year                  \n",
       "2017        27467  140647.48\n",
       "2018        22948  111409.72"
      ]
     },
     "execution_count": 44,
     "metadata": {},
     "output_type": "execute_result"
    }
   ],
   "source": [
    "transaction_count = df_orders.groupby(['order_year']).agg({'uid':'count', 'revenue':'sum'})\n",
    "transaction_count"
   ]
  },
  {
   "cell_type": "markdown",
   "metadata": {},
   "source": [
    "On a monthly basis, the number of orders increases from the end of the year to the beginning of the following year, with a similar trend observed in revenue. When separated by year, the number of orders in 2017 was higher than in 2018, with a total of 27,467 users."
   ]
  },
  {
   "cell_type": "markdown",
   "metadata": {},
   "source": [
    "### Determine the Average Purchase Value"
   ]
  },
  {
   "cell_type": "code",
   "execution_count": 45,
   "metadata": {},
   "outputs": [
    {
     "data": {
      "text/plain": [
       "4.999646930477041"
      ]
     },
     "execution_count": 45,
     "metadata": {},
     "output_type": "execute_result"
    }
   ],
   "source": [
    "df_orders['revenue'].mean()"
   ]
  },
  {
   "cell_type": "markdown",
   "metadata": {},
   "source": [
    "The average purchase value is 4.99."
   ]
  },
  {
   "cell_type": "markdown",
   "metadata": {},
   "source": [
    "### Determine the Total Revenue They Contribute (LTV)"
   ]
  },
  {
   "cell_type": "code",
   "execution_count": 46,
   "metadata": {},
   "outputs": [
    {
     "data": {
      "text/html": [
       "<div>\n",
       "<style scoped>\n",
       "    .dataframe tbody tr th:only-of-type {\n",
       "        vertical-align: middle;\n",
       "    }\n",
       "\n",
       "    .dataframe tbody tr th {\n",
       "        vertical-align: top;\n",
       "    }\n",
       "\n",
       "    .dataframe thead th {\n",
       "        text-align: right;\n",
       "    }\n",
       "</style>\n",
       "<table border=\"1\" class=\"dataframe\">\n",
       "  <thead>\n",
       "    <tr style=\"text-align: right;\">\n",
       "      <th></th>\n",
       "      <th>uid</th>\n",
       "      <th>first_session_start</th>\n",
       "      <th>first_session_dt</th>\n",
       "      <th>first_session_week</th>\n",
       "      <th>first_session_month</th>\n",
       "      <th>first_session_year</th>\n",
       "      <th>first_order_ts</th>\n",
       "      <th>first_order_date</th>\n",
       "      <th>first_order_month</th>\n",
       "      <th>first_order_week</th>\n",
       "      <th>first_session_date</th>\n",
       "      <th>first_day_purchase</th>\n",
       "    </tr>\n",
       "  </thead>\n",
       "  <tbody>\n",
       "    <tr>\n",
       "      <th>31895</th>\n",
       "      <td>16104367063775244848</td>\n",
       "      <td>2017-10-25 12:00:00</td>\n",
       "      <td>2017-10-25</td>\n",
       "      <td>2017-10-19</td>\n",
       "      <td>2017-10-01</td>\n",
       "      <td>2017-01-01</td>\n",
       "      <td>2017-10-25 12:07:00</td>\n",
       "      <td>2017-10-25</td>\n",
       "      <td>2017-10-01</td>\n",
       "      <td>2017-10-19</td>\n",
       "      <td>2017-10-25</td>\n",
       "      <td>0</td>\n",
       "    </tr>\n",
       "    <tr>\n",
       "      <th>30144</th>\n",
       "      <td>15196874547580351666</td>\n",
       "      <td>2017-08-04 19:30:00</td>\n",
       "      <td>2017-08-04</td>\n",
       "      <td>2017-08-03</td>\n",
       "      <td>2017-08-01</td>\n",
       "      <td>2017-01-01</td>\n",
       "      <td>2017-08-04 19:31:00</td>\n",
       "      <td>2017-08-04</td>\n",
       "      <td>2017-08-01</td>\n",
       "      <td>2017-08-03</td>\n",
       "      <td>2017-08-04</td>\n",
       "      <td>0</td>\n",
       "    </tr>\n",
       "    <tr>\n",
       "      <th>16913</th>\n",
       "      <td>8504129682730890046</td>\n",
       "      <td>2018-03-16 12:01:00</td>\n",
       "      <td>2018-03-16</td>\n",
       "      <td>2018-03-15</td>\n",
       "      <td>2018-03-01</td>\n",
       "      <td>2018-01-01</td>\n",
       "      <td>2018-03-16 12:41:00</td>\n",
       "      <td>2018-03-16</td>\n",
       "      <td>2018-03-01</td>\n",
       "      <td>2018-03-15</td>\n",
       "      <td>2018-03-16</td>\n",
       "      <td>0</td>\n",
       "    </tr>\n",
       "    <tr>\n",
       "      <th>14679</th>\n",
       "      <td>7371856473122685515</td>\n",
       "      <td>2018-03-07 16:04:00</td>\n",
       "      <td>2018-03-07</td>\n",
       "      <td>2018-03-01</td>\n",
       "      <td>2018-03-01</td>\n",
       "      <td>2018-01-01</td>\n",
       "      <td>2018-03-07 16:09:00</td>\n",
       "      <td>2018-03-07</td>\n",
       "      <td>2018-03-01</td>\n",
       "      <td>2018-03-01</td>\n",
       "      <td>2018-03-07</td>\n",
       "      <td>0</td>\n",
       "    </tr>\n",
       "    <tr>\n",
       "      <th>32880</th>\n",
       "      <td>16592714751175379184</td>\n",
       "      <td>2018-01-29 10:12:00</td>\n",
       "      <td>2018-01-29</td>\n",
       "      <td>2018-01-25</td>\n",
       "      <td>2018-01-01</td>\n",
       "      <td>2018-01-01</td>\n",
       "      <td>2018-02-08 10:21:00</td>\n",
       "      <td>2018-02-08</td>\n",
       "      <td>2018-02-01</td>\n",
       "      <td>2018-02-08</td>\n",
       "      <td>2018-01-29</td>\n",
       "      <td>10</td>\n",
       "    </tr>\n",
       "  </tbody>\n",
       "</table>\n",
       "</div>"
      ],
      "text/plain": [
       "                        uid first_session_start first_session_dt  \\\n",
       "31895  16104367063775244848 2017-10-25 12:00:00       2017-10-25   \n",
       "30144  15196874547580351666 2017-08-04 19:30:00       2017-08-04   \n",
       "16913   8504129682730890046 2018-03-16 12:01:00       2018-03-16   \n",
       "14679   7371856473122685515 2018-03-07 16:04:00       2018-03-07   \n",
       "32880  16592714751175379184 2018-01-29 10:12:00       2018-01-29   \n",
       "\n",
       "      first_session_week first_session_month first_session_year  \\\n",
       "31895         2017-10-19          2017-10-01         2017-01-01   \n",
       "30144         2017-08-03          2017-08-01         2017-01-01   \n",
       "16913         2018-03-15          2018-03-01         2018-01-01   \n",
       "14679         2018-03-01          2018-03-01         2018-01-01   \n",
       "32880         2018-01-25          2018-01-01         2018-01-01   \n",
       "\n",
       "           first_order_ts first_order_date first_order_month first_order_week  \\\n",
       "31895 2017-10-25 12:07:00       2017-10-25        2017-10-01       2017-10-19   \n",
       "30144 2017-08-04 19:31:00       2017-08-04        2017-08-01       2017-08-03   \n",
       "16913 2018-03-16 12:41:00       2018-03-16        2018-03-01       2018-03-15   \n",
       "14679 2018-03-07 16:09:00       2018-03-07        2018-03-01       2018-03-01   \n",
       "32880 2018-02-08 10:21:00       2018-02-08        2018-02-01       2018-02-08   \n",
       "\n",
       "      first_session_date  first_day_purchase  \n",
       "31895         2017-10-25                   0  \n",
       "30144         2017-08-04                   0  \n",
       "16913         2018-03-16                   0  \n",
       "14679         2018-03-07                   0  \n",
       "32880         2018-01-29                  10  "
      ]
     },
     "execution_count": 46,
     "metadata": {},
     "output_type": "execute_result"
    }
   ],
   "source": [
    "first_buy.sample(5)"
   ]
  },
  {
   "cell_type": "code",
   "execution_count": 47,
   "metadata": {},
   "outputs": [
    {
     "data": {
      "text/html": [
       "<div>\n",
       "<style scoped>\n",
       "    .dataframe tbody tr th:only-of-type {\n",
       "        vertical-align: middle;\n",
       "    }\n",
       "\n",
       "    .dataframe tbody tr th {\n",
       "        vertical-align: top;\n",
       "    }\n",
       "\n",
       "    .dataframe thead th {\n",
       "        text-align: right;\n",
       "    }\n",
       "</style>\n",
       "<table border=\"1\" class=\"dataframe\">\n",
       "  <thead>\n",
       "    <tr style=\"text-align: right;\">\n",
       "      <th></th>\n",
       "      <th>first_order_month</th>\n",
       "      <th>n_buyers</th>\n",
       "    </tr>\n",
       "  </thead>\n",
       "  <tbody>\n",
       "    <tr>\n",
       "      <th>9</th>\n",
       "      <td>2018-03-01</td>\n",
       "      <td>3533</td>\n",
       "    </tr>\n",
       "    <tr>\n",
       "      <th>0</th>\n",
       "      <td>2017-06-01</td>\n",
       "      <td>2023</td>\n",
       "    </tr>\n",
       "    <tr>\n",
       "      <th>1</th>\n",
       "      <td>2017-07-01</td>\n",
       "      <td>1923</td>\n",
       "    </tr>\n",
       "    <tr>\n",
       "      <th>6</th>\n",
       "      <td>2017-12-01</td>\n",
       "      <td>4383</td>\n",
       "    </tr>\n",
       "    <tr>\n",
       "      <th>2</th>\n",
       "      <td>2017-08-01</td>\n",
       "      <td>1370</td>\n",
       "    </tr>\n",
       "  </tbody>\n",
       "</table>\n",
       "</div>"
      ],
      "text/plain": [
       "  first_order_month  n_buyers\n",
       "9        2018-03-01      3533\n",
       "0        2017-06-01      2023\n",
       "1        2017-07-01      1923\n",
       "6        2017-12-01      4383\n",
       "2        2017-08-01      1370"
      ]
     },
     "execution_count": 47,
     "metadata": {},
     "output_type": "execute_result"
    }
   ],
   "source": [
    "cohort_sizes = first_buy.groupby('first_order_month').agg({'uid': 'nunique'}).reset_index()\n",
    "cohort_sizes.columns = ['first_order_month', 'n_buyers']\n",
    "cohort_sizes.sample(5)"
   ]
  },
  {
   "cell_type": "code",
   "execution_count": 48,
   "metadata": {},
   "outputs": [
    {
     "data": {
      "text/html": [
       "<div>\n",
       "<style scoped>\n",
       "    .dataframe tbody tr th:only-of-type {\n",
       "        vertical-align: middle;\n",
       "    }\n",
       "\n",
       "    .dataframe tbody tr th {\n",
       "        vertical-align: top;\n",
       "    }\n",
       "\n",
       "    .dataframe thead th {\n",
       "        text-align: right;\n",
       "    }\n",
       "</style>\n",
       "<table border=\"1\" class=\"dataframe\">\n",
       "  <thead>\n",
       "    <tr style=\"text-align: right;\">\n",
       "      <th></th>\n",
       "      <th>first_order_month</th>\n",
       "      <th>order_month</th>\n",
       "      <th>revenue</th>\n",
       "    </tr>\n",
       "  </thead>\n",
       "  <tbody>\n",
       "    <tr>\n",
       "      <th>0</th>\n",
       "      <td>2017-06-01</td>\n",
       "      <td>2017-06-01</td>\n",
       "      <td>9557.49</td>\n",
       "    </tr>\n",
       "    <tr>\n",
       "      <th>1</th>\n",
       "      <td>2017-06-01</td>\n",
       "      <td>2017-07-01</td>\n",
       "      <td>981.82</td>\n",
       "    </tr>\n",
       "    <tr>\n",
       "      <th>2</th>\n",
       "      <td>2017-06-01</td>\n",
       "      <td>2017-08-01</td>\n",
       "      <td>885.34</td>\n",
       "    </tr>\n",
       "    <tr>\n",
       "      <th>3</th>\n",
       "      <td>2017-06-01</td>\n",
       "      <td>2017-09-01</td>\n",
       "      <td>1931.30</td>\n",
       "    </tr>\n",
       "    <tr>\n",
       "      <th>4</th>\n",
       "      <td>2017-06-01</td>\n",
       "      <td>2017-10-01</td>\n",
       "      <td>2068.58</td>\n",
       "    </tr>\n",
       "  </tbody>\n",
       "</table>\n",
       "</div>"
      ],
      "text/plain": [
       "  first_order_month order_month  revenue\n",
       "0        2017-06-01  2017-06-01  9557.49\n",
       "1        2017-06-01  2017-07-01   981.82\n",
       "2        2017-06-01  2017-08-01   885.34\n",
       "3        2017-06-01  2017-09-01  1931.30\n",
       "4        2017-06-01  2017-10-01  2068.58"
      ]
     },
     "execution_count": 48,
     "metadata": {},
     "output_type": "execute_result"
    }
   ],
   "source": [
    "cohorts = pd.merge(df_orders, first_buy, on='uid')\n",
    "cohorts_agg = cohorts.groupby(['first_order_month', 'order_month']).agg({'revenue': 'sum'}).reset_index()\n",
    "cohorts_agg.head()"
   ]
  },
  {
   "cell_type": "code",
   "execution_count": 49,
   "metadata": {},
   "outputs": [
    {
     "data": {
      "text/html": [
       "<div>\n",
       "<style scoped>\n",
       "    .dataframe tbody tr th:only-of-type {\n",
       "        vertical-align: middle;\n",
       "    }\n",
       "\n",
       "    .dataframe tbody tr th {\n",
       "        vertical-align: top;\n",
       "    }\n",
       "\n",
       "    .dataframe thead th {\n",
       "        text-align: right;\n",
       "    }\n",
       "</style>\n",
       "<table border=\"1\" class=\"dataframe\">\n",
       "  <thead>\n",
       "    <tr style=\"text-align: right;\">\n",
       "      <th></th>\n",
       "      <th>first_order_month</th>\n",
       "      <th>order_month</th>\n",
       "      <th>revenue</th>\n",
       "      <th>age_month</th>\n",
       "    </tr>\n",
       "  </thead>\n",
       "  <tbody>\n",
       "    <tr>\n",
       "      <th>0</th>\n",
       "      <td>2017-06-01</td>\n",
       "      <td>2017-06-01</td>\n",
       "      <td>9557.49</td>\n",
       "      <td>0</td>\n",
       "    </tr>\n",
       "    <tr>\n",
       "      <th>1</th>\n",
       "      <td>2017-06-01</td>\n",
       "      <td>2017-07-01</td>\n",
       "      <td>981.82</td>\n",
       "      <td>1</td>\n",
       "    </tr>\n",
       "    <tr>\n",
       "      <th>2</th>\n",
       "      <td>2017-06-01</td>\n",
       "      <td>2017-08-01</td>\n",
       "      <td>885.34</td>\n",
       "      <td>2</td>\n",
       "    </tr>\n",
       "    <tr>\n",
       "      <th>3</th>\n",
       "      <td>2017-06-01</td>\n",
       "      <td>2017-09-01</td>\n",
       "      <td>1931.30</td>\n",
       "      <td>3</td>\n",
       "    </tr>\n",
       "    <tr>\n",
       "      <th>4</th>\n",
       "      <td>2017-06-01</td>\n",
       "      <td>2017-10-01</td>\n",
       "      <td>2068.58</td>\n",
       "      <td>4</td>\n",
       "    </tr>\n",
       "    <tr>\n",
       "      <th>...</th>\n",
       "      <td>...</td>\n",
       "      <td>...</td>\n",
       "      <td>...</td>\n",
       "      <td>...</td>\n",
       "    </tr>\n",
       "    <tr>\n",
       "      <th>74</th>\n",
       "      <td>2018-03-01</td>\n",
       "      <td>2018-05-01</td>\n",
       "      <td>1114.87</td>\n",
       "      <td>2</td>\n",
       "    </tr>\n",
       "    <tr>\n",
       "      <th>75</th>\n",
       "      <td>2018-04-01</td>\n",
       "      <td>2018-04-01</td>\n",
       "      <td>10600.69</td>\n",
       "      <td>0</td>\n",
       "    </tr>\n",
       "    <tr>\n",
       "      <th>76</th>\n",
       "      <td>2018-04-01</td>\n",
       "      <td>2018-05-01</td>\n",
       "      <td>1209.92</td>\n",
       "      <td>1</td>\n",
       "    </tr>\n",
       "    <tr>\n",
       "      <th>77</th>\n",
       "      <td>2018-05-01</td>\n",
       "      <td>2018-05-01</td>\n",
       "      <td>13925.76</td>\n",
       "      <td>0</td>\n",
       "    </tr>\n",
       "    <tr>\n",
       "      <th>78</th>\n",
       "      <td>2018-06-01</td>\n",
       "      <td>2018-06-01</td>\n",
       "      <td>3.42</td>\n",
       "      <td>0</td>\n",
       "    </tr>\n",
       "  </tbody>\n",
       "</table>\n",
       "<p>79 rows × 4 columns</p>\n",
       "</div>"
      ],
      "text/plain": [
       "   first_order_month order_month   revenue  age_month\n",
       "0         2017-06-01  2017-06-01   9557.49          0\n",
       "1         2017-06-01  2017-07-01    981.82          1\n",
       "2         2017-06-01  2017-08-01    885.34          2\n",
       "3         2017-06-01  2017-09-01   1931.30          3\n",
       "4         2017-06-01  2017-10-01   2068.58          4\n",
       "..               ...         ...       ...        ...\n",
       "74        2018-03-01  2018-05-01   1114.87          2\n",
       "75        2018-04-01  2018-04-01  10600.69          0\n",
       "76        2018-04-01  2018-05-01   1209.92          1\n",
       "77        2018-05-01  2018-05-01  13925.76          0\n",
       "78        2018-06-01  2018-06-01      3.42          0\n",
       "\n",
       "[79 rows x 4 columns]"
      ]
     },
     "execution_count": 49,
     "metadata": {},
     "output_type": "execute_result"
    }
   ],
   "source": [
    "cohorts_agg['age_month'] = (cohorts_agg['order_month'] - cohorts_agg['first_order_month']).dt.days\n",
    "cohorts_agg['age_month'] = round(cohorts_agg['age_month']/30).astype('int')\n",
    "cohorts_agg.columns = ['first_order_month', 'order_month', 'revenue', 'age_month']\n",
    "cohorts_agg"
   ]
  },
  {
   "cell_type": "code",
   "execution_count": 50,
   "metadata": {},
   "outputs": [
    {
     "data": {
      "text/html": [
       "<div>\n",
       "<style scoped>\n",
       "    .dataframe tbody tr th:only-of-type {\n",
       "        vertical-align: middle;\n",
       "    }\n",
       "\n",
       "    .dataframe tbody tr th {\n",
       "        vertical-align: top;\n",
       "    }\n",
       "\n",
       "    .dataframe thead th {\n",
       "        text-align: right;\n",
       "    }\n",
       "</style>\n",
       "<table border=\"1\" class=\"dataframe\">\n",
       "  <thead>\n",
       "    <tr style=\"text-align: right;\">\n",
       "      <th>age_month</th>\n",
       "      <th>0</th>\n",
       "      <th>1</th>\n",
       "      <th>2</th>\n",
       "      <th>3</th>\n",
       "      <th>4</th>\n",
       "      <th>5</th>\n",
       "      <th>6</th>\n",
       "      <th>7</th>\n",
       "      <th>8</th>\n",
       "      <th>9</th>\n",
       "      <th>10</th>\n",
       "      <th>11</th>\n",
       "    </tr>\n",
       "    <tr>\n",
       "      <th>first_order_month</th>\n",
       "      <th></th>\n",
       "      <th></th>\n",
       "      <th></th>\n",
       "      <th></th>\n",
       "      <th></th>\n",
       "      <th></th>\n",
       "      <th></th>\n",
       "      <th></th>\n",
       "      <th></th>\n",
       "      <th></th>\n",
       "      <th></th>\n",
       "      <th></th>\n",
       "    </tr>\n",
       "  </thead>\n",
       "  <tbody>\n",
       "    <tr>\n",
       "      <th>2017-06-01</th>\n",
       "      <td>2.36</td>\n",
       "      <td>0.24</td>\n",
       "      <td>0.22</td>\n",
       "      <td>0.48</td>\n",
       "      <td>0.51</td>\n",
       "      <td>0.37</td>\n",
       "      <td>0.48</td>\n",
       "      <td>0.29</td>\n",
       "      <td>0.28</td>\n",
       "      <td>0.30</td>\n",
       "      <td>0.29</td>\n",
       "      <td>0.13</td>\n",
       "    </tr>\n",
       "    <tr>\n",
       "      <th>2017-07-01</th>\n",
       "      <td>3.01</td>\n",
       "      <td>0.17</td>\n",
       "      <td>0.31</td>\n",
       "      <td>0.18</td>\n",
       "      <td>0.09</td>\n",
       "      <td>0.08</td>\n",
       "      <td>0.06</td>\n",
       "      <td>0.07</td>\n",
       "      <td>0.08</td>\n",
       "      <td>0.07</td>\n",
       "      <td>0.08</td>\n",
       "      <td>NaN</td>\n",
       "    </tr>\n",
       "    <tr>\n",
       "      <th>2017-08-01</th>\n",
       "      <td>2.64</td>\n",
       "      <td>0.24</td>\n",
       "      <td>0.23</td>\n",
       "      <td>0.20</td>\n",
       "      <td>0.25</td>\n",
       "      <td>0.14</td>\n",
       "      <td>0.11</td>\n",
       "      <td>0.20</td>\n",
       "      <td>0.15</td>\n",
       "      <td>0.09</td>\n",
       "      <td>NaN</td>\n",
       "      <td>NaN</td>\n",
       "    </tr>\n",
       "    <tr>\n",
       "      <th>2017-09-01</th>\n",
       "      <td>2.82</td>\n",
       "      <td>0.56</td>\n",
       "      <td>0.26</td>\n",
       "      <td>1.99</td>\n",
       "      <td>0.20</td>\n",
       "      <td>0.32</td>\n",
       "      <td>0.35</td>\n",
       "      <td>0.12</td>\n",
       "      <td>0.09</td>\n",
       "      <td>NaN</td>\n",
       "      <td>NaN</td>\n",
       "      <td>NaN</td>\n",
       "    </tr>\n",
       "    <tr>\n",
       "      <th>2017-10-01</th>\n",
       "      <td>2.50</td>\n",
       "      <td>0.27</td>\n",
       "      <td>0.10</td>\n",
       "      <td>0.08</td>\n",
       "      <td>0.08</td>\n",
       "      <td>0.06</td>\n",
       "      <td>0.04</td>\n",
       "      <td>0.06</td>\n",
       "      <td>NaN</td>\n",
       "      <td>NaN</td>\n",
       "      <td>NaN</td>\n",
       "      <td>NaN</td>\n",
       "    </tr>\n",
       "    <tr>\n",
       "      <th>2017-11-01</th>\n",
       "      <td>2.58</td>\n",
       "      <td>0.20</td>\n",
       "      <td>0.10</td>\n",
       "      <td>0.16</td>\n",
       "      <td>0.07</td>\n",
       "      <td>0.03</td>\n",
       "      <td>0.06</td>\n",
       "      <td>NaN</td>\n",
       "      <td>NaN</td>\n",
       "      <td>NaN</td>\n",
       "      <td>NaN</td>\n",
       "      <td>NaN</td>\n",
       "    </tr>\n",
       "    <tr>\n",
       "      <th>2017-12-01</th>\n",
       "      <td>2.37</td>\n",
       "      <td>0.13</td>\n",
       "      <td>0.46</td>\n",
       "      <td>0.53</td>\n",
       "      <td>0.16</td>\n",
       "      <td>0.17</td>\n",
       "      <td>NaN</td>\n",
       "      <td>NaN</td>\n",
       "      <td>NaN</td>\n",
       "      <td>NaN</td>\n",
       "      <td>NaN</td>\n",
       "      <td>NaN</td>\n",
       "    </tr>\n",
       "    <tr>\n",
       "      <th>2018-01-01</th>\n",
       "      <td>2.07</td>\n",
       "      <td>0.15</td>\n",
       "      <td>0.15</td>\n",
       "      <td>0.07</td>\n",
       "      <td>0.03</td>\n",
       "      <td>NaN</td>\n",
       "      <td>NaN</td>\n",
       "      <td>NaN</td>\n",
       "      <td>NaN</td>\n",
       "      <td>NaN</td>\n",
       "      <td>NaN</td>\n",
       "      <td>NaN</td>\n",
       "    </tr>\n",
       "    <tr>\n",
       "      <th>2018-02-01</th>\n",
       "      <td>2.08</td>\n",
       "      <td>0.14</td>\n",
       "      <td>0.04</td>\n",
       "      <td>0.04</td>\n",
       "      <td>NaN</td>\n",
       "      <td>NaN</td>\n",
       "      <td>NaN</td>\n",
       "      <td>NaN</td>\n",
       "      <td>NaN</td>\n",
       "      <td>NaN</td>\n",
       "      <td>NaN</td>\n",
       "      <td>NaN</td>\n",
       "    </tr>\n",
       "    <tr>\n",
       "      <th>2018-03-01</th>\n",
       "      <td>2.42</td>\n",
       "      <td>0.15</td>\n",
       "      <td>0.16</td>\n",
       "      <td>NaN</td>\n",
       "      <td>NaN</td>\n",
       "      <td>NaN</td>\n",
       "      <td>NaN</td>\n",
       "      <td>NaN</td>\n",
       "      <td>NaN</td>\n",
       "      <td>NaN</td>\n",
       "      <td>NaN</td>\n",
       "      <td>NaN</td>\n",
       "    </tr>\n",
       "    <tr>\n",
       "      <th>2018-04-01</th>\n",
       "      <td>2.33</td>\n",
       "      <td>0.27</td>\n",
       "      <td>NaN</td>\n",
       "      <td>NaN</td>\n",
       "      <td>NaN</td>\n",
       "      <td>NaN</td>\n",
       "      <td>NaN</td>\n",
       "      <td>NaN</td>\n",
       "      <td>NaN</td>\n",
       "      <td>NaN</td>\n",
       "      <td>NaN</td>\n",
       "      <td>NaN</td>\n",
       "    </tr>\n",
       "    <tr>\n",
       "      <th>2018-05-01</th>\n",
       "      <td>2.33</td>\n",
       "      <td>NaN</td>\n",
       "      <td>NaN</td>\n",
       "      <td>NaN</td>\n",
       "      <td>NaN</td>\n",
       "      <td>NaN</td>\n",
       "      <td>NaN</td>\n",
       "      <td>NaN</td>\n",
       "      <td>NaN</td>\n",
       "      <td>NaN</td>\n",
       "      <td>NaN</td>\n",
       "      <td>NaN</td>\n",
       "    </tr>\n",
       "    <tr>\n",
       "      <th>2018-06-01</th>\n",
       "      <td>1.71</td>\n",
       "      <td>NaN</td>\n",
       "      <td>NaN</td>\n",
       "      <td>NaN</td>\n",
       "      <td>NaN</td>\n",
       "      <td>NaN</td>\n",
       "      <td>NaN</td>\n",
       "      <td>NaN</td>\n",
       "      <td>NaN</td>\n",
       "      <td>NaN</td>\n",
       "      <td>NaN</td>\n",
       "      <td>NaN</td>\n",
       "    </tr>\n",
       "  </tbody>\n",
       "</table>\n",
       "</div>"
      ],
      "text/plain": [
       "age_month            0     1     2     3     4     5     6     7     8     9   \\\n",
       "first_order_month                                                               \n",
       "2017-06-01         2.36  0.24  0.22  0.48  0.51  0.37  0.48  0.29  0.28  0.30   \n",
       "2017-07-01         3.01  0.17  0.31  0.18  0.09  0.08  0.06  0.07  0.08  0.07   \n",
       "2017-08-01         2.64  0.24  0.23  0.20  0.25  0.14  0.11  0.20  0.15  0.09   \n",
       "2017-09-01         2.82  0.56  0.26  1.99  0.20  0.32  0.35  0.12  0.09   NaN   \n",
       "2017-10-01         2.50  0.27  0.10  0.08  0.08  0.06  0.04  0.06   NaN   NaN   \n",
       "2017-11-01         2.58  0.20  0.10  0.16  0.07  0.03  0.06   NaN   NaN   NaN   \n",
       "2017-12-01         2.37  0.13  0.46  0.53  0.16  0.17   NaN   NaN   NaN   NaN   \n",
       "2018-01-01         2.07  0.15  0.15  0.07  0.03   NaN   NaN   NaN   NaN   NaN   \n",
       "2018-02-01         2.08  0.14  0.04  0.04   NaN   NaN   NaN   NaN   NaN   NaN   \n",
       "2018-03-01         2.42  0.15  0.16   NaN   NaN   NaN   NaN   NaN   NaN   NaN   \n",
       "2018-04-01         2.33  0.27   NaN   NaN   NaN   NaN   NaN   NaN   NaN   NaN   \n",
       "2018-05-01         2.33   NaN   NaN   NaN   NaN   NaN   NaN   NaN   NaN   NaN   \n",
       "2018-06-01         1.71   NaN   NaN   NaN   NaN   NaN   NaN   NaN   NaN   NaN   \n",
       "\n",
       "age_month            10    11  \n",
       "first_order_month              \n",
       "2017-06-01         0.29  0.13  \n",
       "2017-07-01         0.08   NaN  \n",
       "2017-08-01          NaN   NaN  \n",
       "2017-09-01          NaN   NaN  \n",
       "2017-10-01          NaN   NaN  \n",
       "2017-11-01          NaN   NaN  \n",
       "2017-12-01          NaN   NaN  \n",
       "2018-01-01          NaN   NaN  \n",
       "2018-02-01          NaN   NaN  \n",
       "2018-03-01          NaN   NaN  \n",
       "2018-04-01          NaN   NaN  \n",
       "2018-05-01          NaN   NaN  \n",
       "2018-06-01          NaN   NaN  "
      ]
     },
     "execution_count": 50,
     "metadata": {},
     "output_type": "execute_result"
    }
   ],
   "source": [
    "margin_rate = 0.5\n",
    "\n",
    "report = pd.merge(cohort_sizes, cohorts_agg, on='first_order_month')\n",
    "report['gp'] = report['revenue'] * margin_rate\n",
    "report['ltv'] = report['gp'] / report['n_buyers']\n",
    "\n",
    "result = report.pivot_table(index='first_order_month', columns='age_month', values='ltv', aggfunc='mean').round(2)\n",
    "\n",
    "#result = result.fillna('')\n",
    "result"
   ]
  },
  {
   "cell_type": "code",
   "execution_count": 51,
   "metadata": {},
   "outputs": [
    {
     "data": {
      "text/plain": [
       "<AxesSubplot:title={'center':'Life-Time Value (LTV) Heatmap'}, xlabel='age_month', ylabel='first_order_month'>"
      ]
     },
     "execution_count": 51,
     "metadata": {},
     "output_type": "execute_result"
    },
    {
     "data": {
      "image/png": "[encoded data removed]",
      "text/plain": [
       "<Figure size 936x648 with 2 Axes>"
      ]
     },
     "metadata": {
      "needs_background": "light"
     },
     "output_type": "display_data"
    }
   ],
   "source": [
    "plt.figure(figsize=(13, 9))\n",
    "plt.title('Life-Time Value (LTV) Heatmap')\n",
    "sns.heatmap(\n",
    "    result,\n",
    "    annot=True,\n",
    "    fmt='.2f',\n",
    "    linewidths=1,\n",
    "    linecolor='gray',\n",
    ")"
   ]
  },
  {
   "cell_type": "markdown",
   "metadata": {},
   "source": [
    "The average LTV tends to decline after the first few months. This may indicate that users become less active or less profitable after the initial months of usage."
   ]
  },
  {
   "cell_type": "markdown",
   "metadata": {},
   "source": [
    "## Marketing\n",
    "\n",
    "### Determine the Amount of Money Spent (Overall/Per Source/Over Time)"
   ]
  },
  {
   "cell_type": "code",
   "execution_count": 52,
   "metadata": {},
   "outputs": [
    {
     "data": {
      "text/html": [
       "<div>\n",
       "<style scoped>\n",
       "    .dataframe tbody tr th:only-of-type {\n",
       "        vertical-align: middle;\n",
       "    }\n",
       "\n",
       "    .dataframe tbody tr th {\n",
       "        vertical-align: top;\n",
       "    }\n",
       "\n",
       "    .dataframe thead th {\n",
       "        text-align: right;\n",
       "    }\n",
       "</style>\n",
       "<table border=\"1\" class=\"dataframe\">\n",
       "  <thead>\n",
       "    <tr style=\"text-align: right;\">\n",
       "      <th></th>\n",
       "      <th>source_id</th>\n",
       "      <th>dt</th>\n",
       "      <th>costs</th>\n",
       "    </tr>\n",
       "  </thead>\n",
       "  <tbody>\n",
       "    <tr>\n",
       "      <th>686</th>\n",
       "      <td>2</td>\n",
       "      <td>2018-04-22</td>\n",
       "      <td>76.97</td>\n",
       "    </tr>\n",
       "  </tbody>\n",
       "</table>\n",
       "</div>"
      ],
      "text/plain": [
       "     source_id         dt  costs\n",
       "686          2 2018-04-22  76.97"
      ]
     },
     "execution_count": 52,
     "metadata": {},
     "output_type": "execute_result"
    }
   ],
   "source": [
    "df_costs.sample()"
   ]
  },
  {
   "cell_type": "code",
   "execution_count": 53,
   "metadata": {},
   "outputs": [],
   "source": [
    "df_costs['month'] = df_costs['dt'].astype('datetime64[M]')"
   ]
  },
  {
   "cell_type": "code",
   "execution_count": 54,
   "metadata": {},
   "outputs": [
    {
     "data": {
      "text/html": [
       "<div>\n",
       "<style scoped>\n",
       "    .dataframe tbody tr th:only-of-type {\n",
       "        vertical-align: middle;\n",
       "    }\n",
       "\n",
       "    .dataframe tbody tr th {\n",
       "        vertical-align: top;\n",
       "    }\n",
       "\n",
       "    .dataframe thead th {\n",
       "        text-align: right;\n",
       "    }\n",
       "</style>\n",
       "<table border=\"1\" class=\"dataframe\">\n",
       "  <thead>\n",
       "    <tr style=\"text-align: right;\">\n",
       "      <th></th>\n",
       "      <th>source_id</th>\n",
       "      <th>dt</th>\n",
       "      <th>costs</th>\n",
       "      <th>month</th>\n",
       "    </tr>\n",
       "  </thead>\n",
       "  <tbody>\n",
       "    <tr>\n",
       "      <th>2079</th>\n",
       "      <td>9</td>\n",
       "      <td>2018-02-19</td>\n",
       "      <td>23.54</td>\n",
       "      <td>2018-02-01</td>\n",
       "    </tr>\n",
       "  </tbody>\n",
       "</table>\n",
       "</div>"
      ],
      "text/plain": [
       "      source_id         dt  costs      month\n",
       "2079          9 2018-02-19  23.54 2018-02-01"
      ]
     },
     "execution_count": 54,
     "metadata": {},
     "output_type": "execute_result"
    }
   ],
   "source": [
    "df_costs.sample()"
   ]
  },
  {
   "cell_type": "code",
   "execution_count": 55,
   "metadata": {},
   "outputs": [
    {
     "data": {
      "text/plain": [
       "329131.62"
      ]
     },
     "execution_count": 55,
     "metadata": {},
     "output_type": "execute_result"
    }
   ],
   "source": [
    "total_costs = df_costs['costs'].sum()\n",
    "total_costs"
   ]
  },
  {
   "cell_type": "code",
   "execution_count": 56,
   "metadata": {},
   "outputs": [
    {
     "data": {
      "text/plain": [
       "<AxesSubplot:title={'center':'Costs yang digunakan per bulan'}, xlabel='month'>"
      ]
     },
     "execution_count": 56,
     "metadata": {},
     "output_type": "execute_result"
    },
    {
     "data": {
      "image/png": "[encoded data removed]",
      "text/plain": [
       "<Figure size 432x288 with 1 Axes>"
      ]
     },
     "metadata": {
      "needs_background": "light"
     },
     "output_type": "display_data"
    }
   ],
   "source": [
    "df_costs.pivot_table(index='month', values='costs', aggfunc='sum').plot(kind='line', color='skyblue', title='Costs yang digunakan per bulan')"
   ]
  },
  {
   "cell_type": "code",
   "execution_count": 57,
   "metadata": {},
   "outputs": [
    {
     "data": {
      "text/html": [
       "<div>\n",
       "<style scoped>\n",
       "    .dataframe tbody tr th:only-of-type {\n",
       "        vertical-align: middle;\n",
       "    }\n",
       "\n",
       "    .dataframe tbody tr th {\n",
       "        vertical-align: top;\n",
       "    }\n",
       "\n",
       "    .dataframe thead th {\n",
       "        text-align: right;\n",
       "    }\n",
       "</style>\n",
       "<table border=\"1\" class=\"dataframe\">\n",
       "  <thead>\n",
       "    <tr style=\"text-align: right;\">\n",
       "      <th></th>\n",
       "      <th>costs</th>\n",
       "    </tr>\n",
       "    <tr>\n",
       "      <th>source_id</th>\n",
       "      <th></th>\n",
       "    </tr>\n",
       "  </thead>\n",
       "  <tbody>\n",
       "    <tr>\n",
       "      <th>9</th>\n",
       "      <td>5517.49</td>\n",
       "    </tr>\n",
       "    <tr>\n",
       "      <th>10</th>\n",
       "      <td>5822.49</td>\n",
       "    </tr>\n",
       "    <tr>\n",
       "      <th>1</th>\n",
       "      <td>20833.27</td>\n",
       "    </tr>\n",
       "    <tr>\n",
       "      <th>2</th>\n",
       "      <td>42806.04</td>\n",
       "    </tr>\n",
       "    <tr>\n",
       "      <th>5</th>\n",
       "      <td>51757.10</td>\n",
       "    </tr>\n",
       "    <tr>\n",
       "      <th>4</th>\n",
       "      <td>61073.60</td>\n",
       "    </tr>\n",
       "    <tr>\n",
       "      <th>3</th>\n",
       "      <td>141321.63</td>\n",
       "    </tr>\n",
       "  </tbody>\n",
       "</table>\n",
       "</div>"
      ],
      "text/plain": [
       "               costs\n",
       "source_id           \n",
       "9            5517.49\n",
       "10           5822.49\n",
       "1           20833.27\n",
       "2           42806.04\n",
       "5           51757.10\n",
       "4           61073.60\n",
       "3          141321.63"
      ]
     },
     "execution_count": 57,
     "metadata": {},
     "output_type": "execute_result"
    }
   ],
   "source": [
    "costs_by_sources = df_costs.groupby('source_id').agg({'costs':'sum'}).sort_values(by='costs')\n",
    "costs_by_sources"
   ]
  },
  {
   "cell_type": "code",
   "execution_count": 58,
   "metadata": {},
   "outputs": [
    {
     "data": {
      "text/html": [
       "<div>\n",
       "<style scoped>\n",
       "    .dataframe tbody tr th:only-of-type {\n",
       "        vertical-align: middle;\n",
       "    }\n",
       "\n",
       "    .dataframe tbody tr th {\n",
       "        vertical-align: top;\n",
       "    }\n",
       "\n",
       "    .dataframe thead th {\n",
       "        text-align: right;\n",
       "    }\n",
       "</style>\n",
       "<table border=\"1\" class=\"dataframe\">\n",
       "  <thead>\n",
       "    <tr style=\"text-align: right;\">\n",
       "      <th>source_id</th>\n",
       "      <th>1</th>\n",
       "      <th>2</th>\n",
       "      <th>3</th>\n",
       "      <th>4</th>\n",
       "      <th>5</th>\n",
       "      <th>9</th>\n",
       "      <th>10</th>\n",
       "    </tr>\n",
       "    <tr>\n",
       "      <th>month</th>\n",
       "      <th></th>\n",
       "      <th></th>\n",
       "      <th></th>\n",
       "      <th></th>\n",
       "      <th></th>\n",
       "      <th></th>\n",
       "      <th></th>\n",
       "    </tr>\n",
       "  </thead>\n",
       "  <tbody>\n",
       "    <tr>\n",
       "      <th>2017-06-01</th>\n",
       "      <td>1125.61</td>\n",
       "      <td>2427.38</td>\n",
       "      <td>7731.65</td>\n",
       "      <td>3514.80</td>\n",
       "      <td>2616.12</td>\n",
       "      <td>285.22</td>\n",
       "      <td>314.22</td>\n",
       "    </tr>\n",
       "    <tr>\n",
       "      <th>2017-07-01</th>\n",
       "      <td>1072.88</td>\n",
       "      <td>2333.11</td>\n",
       "      <td>7674.37</td>\n",
       "      <td>3529.73</td>\n",
       "      <td>2998.14</td>\n",
       "      <td>302.54</td>\n",
       "      <td>329.82</td>\n",
       "    </tr>\n",
       "    <tr>\n",
       "      <th>2017-08-01</th>\n",
       "      <td>951.81</td>\n",
       "      <td>1811.05</td>\n",
       "      <td>6143.54</td>\n",
       "      <td>3217.36</td>\n",
       "      <td>2185.28</td>\n",
       "      <td>248.93</td>\n",
       "      <td>232.57</td>\n",
       "    </tr>\n",
       "    <tr>\n",
       "      <th>2017-09-01</th>\n",
       "      <td>1502.01</td>\n",
       "      <td>2985.66</td>\n",
       "      <td>9963.55</td>\n",
       "      <td>5192.26</td>\n",
       "      <td>3849.14</td>\n",
       "      <td>415.62</td>\n",
       "      <td>460.67</td>\n",
       "    </tr>\n",
       "    <tr>\n",
       "      <th>2017-10-01</th>\n",
       "      <td>2315.75</td>\n",
       "      <td>4845.00</td>\n",
       "      <td>15737.24</td>\n",
       "      <td>6420.84</td>\n",
       "      <td>5767.40</td>\n",
       "      <td>609.41</td>\n",
       "      <td>627.24</td>\n",
       "    </tr>\n",
       "    <tr>\n",
       "      <th>2017-11-01</th>\n",
       "      <td>2445.16</td>\n",
       "      <td>5247.68</td>\n",
       "      <td>17025.34</td>\n",
       "      <td>5388.82</td>\n",
       "      <td>6325.34</td>\n",
       "      <td>683.18</td>\n",
       "      <td>792.36</td>\n",
       "    </tr>\n",
       "    <tr>\n",
       "      <th>2017-12-01</th>\n",
       "      <td>2341.20</td>\n",
       "      <td>4897.80</td>\n",
       "      <td>16219.52</td>\n",
       "      <td>7680.47</td>\n",
       "      <td>5872.52</td>\n",
       "      <td>657.98</td>\n",
       "      <td>645.86</td>\n",
       "    </tr>\n",
       "    <tr>\n",
       "      <th>2018-01-01</th>\n",
       "      <td>2186.18</td>\n",
       "      <td>4157.74</td>\n",
       "      <td>14808.78</td>\n",
       "      <td>5832.79</td>\n",
       "      <td>5371.52</td>\n",
       "      <td>547.16</td>\n",
       "      <td>614.35</td>\n",
       "    </tr>\n",
       "    <tr>\n",
       "      <th>2018-02-01</th>\n",
       "      <td>2204.48</td>\n",
       "      <td>4474.34</td>\n",
       "      <td>14228.56</td>\n",
       "      <td>5711.96</td>\n",
       "      <td>5071.31</td>\n",
       "      <td>551.50</td>\n",
       "      <td>480.88</td>\n",
       "    </tr>\n",
       "    <tr>\n",
       "      <th>2018-03-01</th>\n",
       "      <td>1893.09</td>\n",
       "      <td>3943.14</td>\n",
       "      <td>13080.85</td>\n",
       "      <td>5961.87</td>\n",
       "      <td>4529.62</td>\n",
       "      <td>480.29</td>\n",
       "      <td>526.41</td>\n",
       "    </tr>\n",
       "    <tr>\n",
       "      <th>2018-04-01</th>\n",
       "      <td>1327.49</td>\n",
       "      <td>2993.70</td>\n",
       "      <td>9296.81</td>\n",
       "      <td>4408.49</td>\n",
       "      <td>3501.15</td>\n",
       "      <td>373.49</td>\n",
       "      <td>388.25</td>\n",
       "    </tr>\n",
       "    <tr>\n",
       "      <th>2018-05-01</th>\n",
       "      <td>1467.61</td>\n",
       "      <td>2689.44</td>\n",
       "      <td>9411.42</td>\n",
       "      <td>4214.21</td>\n",
       "      <td>3669.56</td>\n",
       "      <td>362.17</td>\n",
       "      <td>409.86</td>\n",
       "    </tr>\n",
       "  </tbody>\n",
       "</table>\n",
       "</div>"
      ],
      "text/plain": [
       "source_id        1        2         3        4        5       9       10\n",
       "month                                                                   \n",
       "2017-06-01  1125.61  2427.38   7731.65  3514.80  2616.12  285.22  314.22\n",
       "2017-07-01  1072.88  2333.11   7674.37  3529.73  2998.14  302.54  329.82\n",
       "2017-08-01   951.81  1811.05   6143.54  3217.36  2185.28  248.93  232.57\n",
       "2017-09-01  1502.01  2985.66   9963.55  5192.26  3849.14  415.62  460.67\n",
       "2017-10-01  2315.75  4845.00  15737.24  6420.84  5767.40  609.41  627.24\n",
       "2017-11-01  2445.16  5247.68  17025.34  5388.82  6325.34  683.18  792.36\n",
       "2017-12-01  2341.20  4897.80  16219.52  7680.47  5872.52  657.98  645.86\n",
       "2018-01-01  2186.18  4157.74  14808.78  5832.79  5371.52  547.16  614.35\n",
       "2018-02-01  2204.48  4474.34  14228.56  5711.96  5071.31  551.50  480.88\n",
       "2018-03-01  1893.09  3943.14  13080.85  5961.87  4529.62  480.29  526.41\n",
       "2018-04-01  1327.49  2993.70   9296.81  4408.49  3501.15  373.49  388.25\n",
       "2018-05-01  1467.61  2689.44   9411.42  4214.21  3669.56  362.17  409.86"
      ]
     },
     "execution_count": 58,
     "metadata": {},
     "output_type": "execute_result"
    }
   ],
   "source": [
    "costs_per_source_by_month = df_costs.pivot_table(index='month', columns='source_id', values='costs', aggfunc='sum')\n",
    "costs_per_source_by_month"
   ]
  },
  {
   "cell_type": "code",
   "execution_count": 59,
   "metadata": {},
   "outputs": [
    {
     "data": {
      "text/plain": [
       "<AxesSubplot:xlabel='month'>"
      ]
     },
     "execution_count": 59,
     "metadata": {},
     "output_type": "execute_result"
    },
    {
     "data": {
      "image/png": "[encoded data removed]",
      "text/plain": [
       "<Figure size 432x288 with 1 Axes>"
      ]
     },
     "metadata": {
      "needs_background": "light"
     },
     "output_type": "display_data"
    }
   ],
   "source": [
    "costs_per_source_by_month.plot(kind='area', stacked=True, colormap='tab20', alpha=0.7, linewidth=0)"
   ]
  },
  {
   "cell_type": "markdown",
   "metadata": {},
   "source": [
    "* The total expenditure is 329,131.62\n",
    "* The highest expenditure per source is for source_id 3\n",
    "* The largest amount of spending occurred between October and December 2017"
   ]
  },
  {
   "cell_type": "markdown",
   "metadata": {},
   "source": [
    "### Determine the Customer Acquisition Cost from Each Source"
   ]
  },
  {
   "cell_type": "code",
   "execution_count": 60,
   "metadata": {},
   "outputs": [
    {
     "data": {
      "text/html": [
       "<div>\n",
       "<style scoped>\n",
       "    .dataframe tbody tr th:only-of-type {\n",
       "        vertical-align: middle;\n",
       "    }\n",
       "\n",
       "    .dataframe tbody tr th {\n",
       "        vertical-align: top;\n",
       "    }\n",
       "\n",
       "    .dataframe thead th {\n",
       "        text-align: right;\n",
       "    }\n",
       "</style>\n",
       "<table border=\"1\" class=\"dataframe\">\n",
       "  <thead>\n",
       "    <tr style=\"text-align: right;\">\n",
       "      <th></th>\n",
       "      <th>source_id</th>\n",
       "      <th>dt</th>\n",
       "      <th>costs</th>\n",
       "      <th>month</th>\n",
       "    </tr>\n",
       "  </thead>\n",
       "  <tbody>\n",
       "    <tr>\n",
       "      <th>1622</th>\n",
       "      <td>5</td>\n",
       "      <td>2017-11-18</td>\n",
       "      <td>176.74</td>\n",
       "      <td>2017-11-01</td>\n",
       "    </tr>\n",
       "    <tr>\n",
       "      <th>947</th>\n",
       "      <td>3</td>\n",
       "      <td>2018-01-08</td>\n",
       "      <td>252.17</td>\n",
       "      <td>2018-01-01</td>\n",
       "    </tr>\n",
       "    <tr>\n",
       "      <th>1700</th>\n",
       "      <td>5</td>\n",
       "      <td>2018-02-04</td>\n",
       "      <td>173.87</td>\n",
       "      <td>2018-02-01</td>\n",
       "    </tr>\n",
       "    <tr>\n",
       "      <th>1496</th>\n",
       "      <td>5</td>\n",
       "      <td>2017-07-15</td>\n",
       "      <td>161.95</td>\n",
       "      <td>2017-07-01</td>\n",
       "    </tr>\n",
       "    <tr>\n",
       "      <th>1030</th>\n",
       "      <td>3</td>\n",
       "      <td>2018-04-03</td>\n",
       "      <td>506.88</td>\n",
       "      <td>2018-04-01</td>\n",
       "    </tr>\n",
       "  </tbody>\n",
       "</table>\n",
       "</div>"
      ],
      "text/plain": [
       "      source_id         dt   costs      month\n",
       "1622          5 2017-11-18  176.74 2017-11-01\n",
       "947           3 2018-01-08  252.17 2018-01-01\n",
       "1700          5 2018-02-04  173.87 2018-02-01\n",
       "1496          5 2017-07-15  161.95 2017-07-01\n",
       "1030          3 2018-04-03  506.88 2018-04-01"
      ]
     },
     "execution_count": 60,
     "metadata": {},
     "output_type": "execute_result"
    }
   ],
   "source": [
    "df_costs.sample(5)"
   ]
  },
  {
   "cell_type": "code",
   "execution_count": 61,
   "metadata": {},
   "outputs": [
    {
     "data": {
      "text/html": [
       "<div>\n",
       "<style scoped>\n",
       "    .dataframe tbody tr th:only-of-type {\n",
       "        vertical-align: middle;\n",
       "    }\n",
       "\n",
       "    .dataframe tbody tr th {\n",
       "        vertical-align: top;\n",
       "    }\n",
       "\n",
       "    .dataframe thead th {\n",
       "        text-align: right;\n",
       "    }\n",
       "</style>\n",
       "<table border=\"1\" class=\"dataframe\">\n",
       "  <thead>\n",
       "    <tr style=\"text-align: right;\">\n",
       "      <th></th>\n",
       "      <th>uid</th>\n",
       "      <th>first_session_start</th>\n",
       "      <th>first_session_dt</th>\n",
       "      <th>first_session_week</th>\n",
       "      <th>first_session_month</th>\n",
       "      <th>first_session_year</th>\n",
       "      <th>first_order_ts</th>\n",
       "      <th>first_order_date</th>\n",
       "      <th>first_order_month</th>\n",
       "      <th>first_order_week</th>\n",
       "      <th>first_session_date</th>\n",
       "      <th>first_day_purchase</th>\n",
       "    </tr>\n",
       "  </thead>\n",
       "  <tbody>\n",
       "    <tr>\n",
       "      <th>22298</th>\n",
       "      <td>11257610740731491072</td>\n",
       "      <td>2017-10-24 19:57:00</td>\n",
       "      <td>2017-10-24</td>\n",
       "      <td>2017-10-19</td>\n",
       "      <td>2017-10-01</td>\n",
       "      <td>2017-01-01</td>\n",
       "      <td>2017-10-24 20:06:00</td>\n",
       "      <td>2017-10-24</td>\n",
       "      <td>2017-10-01</td>\n",
       "      <td>2017-10-19</td>\n",
       "      <td>2017-10-24</td>\n",
       "      <td>0</td>\n",
       "    </tr>\n",
       "    <tr>\n",
       "      <th>22514</th>\n",
       "      <td>11371846661300230134</td>\n",
       "      <td>2017-07-05 07:05:00</td>\n",
       "      <td>2017-07-05</td>\n",
       "      <td>2017-06-29</td>\n",
       "      <td>2017-07-01</td>\n",
       "      <td>2017-01-01</td>\n",
       "      <td>2017-09-05 09:22:00</td>\n",
       "      <td>2017-09-05</td>\n",
       "      <td>2017-09-01</td>\n",
       "      <td>2017-08-31</td>\n",
       "      <td>2017-07-05</td>\n",
       "      <td>62</td>\n",
       "    </tr>\n",
       "    <tr>\n",
       "      <th>20014</th>\n",
       "      <td>10120376390056084516</td>\n",
       "      <td>2017-10-07 21:55:00</td>\n",
       "      <td>2017-10-07</td>\n",
       "      <td>2017-10-05</td>\n",
       "      <td>2017-10-01</td>\n",
       "      <td>2017-01-01</td>\n",
       "      <td>2017-10-07 23:07:00</td>\n",
       "      <td>2017-10-07</td>\n",
       "      <td>2017-10-01</td>\n",
       "      <td>2017-10-05</td>\n",
       "      <td>2017-10-07</td>\n",
       "      <td>0</td>\n",
       "    </tr>\n",
       "    <tr>\n",
       "      <th>36275</th>\n",
       "      <td>18315876241148817756</td>\n",
       "      <td>2017-12-16 00:22:00</td>\n",
       "      <td>2017-12-16</td>\n",
       "      <td>2017-12-14</td>\n",
       "      <td>2017-12-01</td>\n",
       "      <td>2017-01-01</td>\n",
       "      <td>2017-12-16 00:27:00</td>\n",
       "      <td>2017-12-16</td>\n",
       "      <td>2017-12-01</td>\n",
       "      <td>2017-12-14</td>\n",
       "      <td>2017-12-16</td>\n",
       "      <td>0</td>\n",
       "    </tr>\n",
       "    <tr>\n",
       "      <th>9547</th>\n",
       "      <td>4827447267481814798</td>\n",
       "      <td>2017-06-08 21:48:00</td>\n",
       "      <td>2017-06-08</td>\n",
       "      <td>2017-06-08</td>\n",
       "      <td>2017-06-01</td>\n",
       "      <td>2017-01-01</td>\n",
       "      <td>2017-08-07 11:30:00</td>\n",
       "      <td>2017-08-07</td>\n",
       "      <td>2017-08-01</td>\n",
       "      <td>2017-08-03</td>\n",
       "      <td>2017-06-08</td>\n",
       "      <td>60</td>\n",
       "    </tr>\n",
       "  </tbody>\n",
       "</table>\n",
       "</div>"
      ],
      "text/plain": [
       "                        uid first_session_start first_session_dt  \\\n",
       "22298  11257610740731491072 2017-10-24 19:57:00       2017-10-24   \n",
       "22514  11371846661300230134 2017-07-05 07:05:00       2017-07-05   \n",
       "20014  10120376390056084516 2017-10-07 21:55:00       2017-10-07   \n",
       "36275  18315876241148817756 2017-12-16 00:22:00       2017-12-16   \n",
       "9547    4827447267481814798 2017-06-08 21:48:00       2017-06-08   \n",
       "\n",
       "      first_session_week first_session_month first_session_year  \\\n",
       "22298         2017-10-19          2017-10-01         2017-01-01   \n",
       "22514         2017-06-29          2017-07-01         2017-01-01   \n",
       "20014         2017-10-05          2017-10-01         2017-01-01   \n",
       "36275         2017-12-14          2017-12-01         2017-01-01   \n",
       "9547          2017-06-08          2017-06-01         2017-01-01   \n",
       "\n",
       "           first_order_ts first_order_date first_order_month first_order_week  \\\n",
       "22298 2017-10-24 20:06:00       2017-10-24        2017-10-01       2017-10-19   \n",
       "22514 2017-09-05 09:22:00       2017-09-05        2017-09-01       2017-08-31   \n",
       "20014 2017-10-07 23:07:00       2017-10-07        2017-10-01       2017-10-05   \n",
       "36275 2017-12-16 00:27:00       2017-12-16        2017-12-01       2017-12-14   \n",
       "9547  2017-08-07 11:30:00       2017-08-07        2017-08-01       2017-08-03   \n",
       "\n",
       "      first_session_date  first_day_purchase  \n",
       "22298         2017-10-24                   0  \n",
       "22514         2017-07-05                  62  \n",
       "20014         2017-10-07                   0  \n",
       "36275         2017-12-16                   0  \n",
       "9547          2017-06-08                  60  "
      ]
     },
     "execution_count": 61,
     "metadata": {},
     "output_type": "execute_result"
    }
   ],
   "source": [
    "first_buy.sample(5)"
   ]
  },
  {
   "cell_type": "code",
   "execution_count": 62,
   "metadata": {},
   "outputs": [
    {
     "data": {
      "text/html": [
       "<div>\n",
       "<style scoped>\n",
       "    .dataframe tbody tr th:only-of-type {\n",
       "        vertical-align: middle;\n",
       "    }\n",
       "\n",
       "    .dataframe tbody tr th {\n",
       "        vertical-align: top;\n",
       "    }\n",
       "\n",
       "    .dataframe thead th {\n",
       "        text-align: right;\n",
       "    }\n",
       "</style>\n",
       "<table border=\"1\" class=\"dataframe\">\n",
       "  <thead>\n",
       "    <tr style=\"text-align: right;\">\n",
       "      <th></th>\n",
       "      <th>device</th>\n",
       "      <th>end_ts</th>\n",
       "      <th>source_id</th>\n",
       "      <th>start_ts</th>\n",
       "      <th>uid</th>\n",
       "      <th>session_year</th>\n",
       "      <th>session_month</th>\n",
       "      <th>session_week</th>\n",
       "      <th>session_date</th>\n",
       "      <th>session_duration_sec</th>\n",
       "    </tr>\n",
       "  </thead>\n",
       "  <tbody>\n",
       "    <tr>\n",
       "      <th>303760</th>\n",
       "      <td>touch</td>\n",
       "      <td>2017-11-19 20:17:00</td>\n",
       "      <td>4</td>\n",
       "      <td>2017-11-19 19:55:00</td>\n",
       "      <td>16361109372264320792</td>\n",
       "      <td>2017</td>\n",
       "      <td>11</td>\n",
       "      <td>46</td>\n",
       "      <td>2017-11-19</td>\n",
       "      <td>1320</td>\n",
       "    </tr>\n",
       "    <tr>\n",
       "      <th>181091</th>\n",
       "      <td>desktop</td>\n",
       "      <td>2017-12-03 13:33:00</td>\n",
       "      <td>10</td>\n",
       "      <td>2017-12-03 13:33:00</td>\n",
       "      <td>14307344985655197784</td>\n",
       "      <td>2017</td>\n",
       "      <td>12</td>\n",
       "      <td>48</td>\n",
       "      <td>2017-12-03</td>\n",
       "      <td>0</td>\n",
       "    </tr>\n",
       "    <tr>\n",
       "      <th>176669</th>\n",
       "      <td>desktop</td>\n",
       "      <td>2018-04-19 01:10:00</td>\n",
       "      <td>4</td>\n",
       "      <td>2018-04-19 01:08:00</td>\n",
       "      <td>16521204326614386826</td>\n",
       "      <td>2018</td>\n",
       "      <td>4</td>\n",
       "      <td>16</td>\n",
       "      <td>2018-04-19</td>\n",
       "      <td>120</td>\n",
       "    </tr>\n",
       "    <tr>\n",
       "      <th>263783</th>\n",
       "      <td>desktop</td>\n",
       "      <td>2018-02-22 07:38:00</td>\n",
       "      <td>5</td>\n",
       "      <td>2018-02-22 07:35:00</td>\n",
       "      <td>3680356598076028182</td>\n",
       "      <td>2018</td>\n",
       "      <td>2</td>\n",
       "      <td>8</td>\n",
       "      <td>2018-02-22</td>\n",
       "      <td>180</td>\n",
       "    </tr>\n",
       "    <tr>\n",
       "      <th>73929</th>\n",
       "      <td>desktop</td>\n",
       "      <td>2017-06-22 14:46:00</td>\n",
       "      <td>5</td>\n",
       "      <td>2017-06-22 14:45:00</td>\n",
       "      <td>4613484822268175589</td>\n",
       "      <td>2017</td>\n",
       "      <td>6</td>\n",
       "      <td>25</td>\n",
       "      <td>2017-06-22</td>\n",
       "      <td>60</td>\n",
       "    </tr>\n",
       "  </tbody>\n",
       "</table>\n",
       "</div>"
      ],
      "text/plain": [
       "         device              end_ts  source_id            start_ts  \\\n",
       "303760    touch 2017-11-19 20:17:00          4 2017-11-19 19:55:00   \n",
       "181091  desktop 2017-12-03 13:33:00         10 2017-12-03 13:33:00   \n",
       "176669  desktop 2018-04-19 01:10:00          4 2018-04-19 01:08:00   \n",
       "263783  desktop 2018-02-22 07:38:00          5 2018-02-22 07:35:00   \n",
       "73929   desktop 2017-06-22 14:46:00          5 2017-06-22 14:45:00   \n",
       "\n",
       "                         uid  session_year  session_month  session_week  \\\n",
       "303760  16361109372264320792          2017             11            46   \n",
       "181091  14307344985655197784          2017             12            48   \n",
       "176669  16521204326614386826          2018              4            16   \n",
       "263783   3680356598076028182          2018              2             8   \n",
       "73929    4613484822268175589          2017              6            25   \n",
       "\n",
       "       session_date  session_duration_sec  \n",
       "303760   2017-11-19                  1320  \n",
       "181091   2017-12-03                     0  \n",
       "176669   2018-04-19                   120  \n",
       "263783   2018-02-22                   180  \n",
       "73929    2017-06-22                    60  "
      ]
     },
     "execution_count": 62,
     "metadata": {},
     "output_type": "execute_result"
    }
   ],
   "source": [
    "df_visits.sample(5)"
   ]
  },
  {
   "cell_type": "code",
   "execution_count": 63,
   "metadata": {},
   "outputs": [
    {
     "data": {
      "text/html": [
       "<div>\n",
       "<style scoped>\n",
       "    .dataframe tbody tr th:only-of-type {\n",
       "        vertical-align: middle;\n",
       "    }\n",
       "\n",
       "    .dataframe tbody tr th {\n",
       "        vertical-align: top;\n",
       "    }\n",
       "\n",
       "    .dataframe thead th {\n",
       "        text-align: right;\n",
       "    }\n",
       "</style>\n",
       "<table border=\"1\" class=\"dataframe\">\n",
       "  <thead>\n",
       "    <tr style=\"text-align: right;\">\n",
       "      <th></th>\n",
       "      <th>source_id</th>\n",
       "    </tr>\n",
       "    <tr>\n",
       "      <th>uid</th>\n",
       "      <th></th>\n",
       "    </tr>\n",
       "  </thead>\n",
       "  <tbody>\n",
       "    <tr>\n",
       "      <th>11863502262781</th>\n",
       "      <td>3</td>\n",
       "    </tr>\n",
       "    <tr>\n",
       "      <th>49537067089222</th>\n",
       "      <td>2</td>\n",
       "    </tr>\n",
       "    <tr>\n",
       "      <th>297729379853735</th>\n",
       "      <td>3</td>\n",
       "    </tr>\n",
       "    <tr>\n",
       "      <th>313578113262317</th>\n",
       "      <td>2</td>\n",
       "    </tr>\n",
       "    <tr>\n",
       "      <th>325320750514679</th>\n",
       "      <td>5</td>\n",
       "    </tr>\n",
       "    <tr>\n",
       "      <th>...</th>\n",
       "      <td>...</td>\n",
       "    </tr>\n",
       "    <tr>\n",
       "      <th>18446403737806311543</th>\n",
       "      <td>5</td>\n",
       "    </tr>\n",
       "    <tr>\n",
       "      <th>18446424184725333426</th>\n",
       "      <td>4</td>\n",
       "    </tr>\n",
       "    <tr>\n",
       "      <th>18446556406699109058</th>\n",
       "      <td>3</td>\n",
       "    </tr>\n",
       "    <tr>\n",
       "      <th>18446621818809592527</th>\n",
       "      <td>4</td>\n",
       "    </tr>\n",
       "    <tr>\n",
       "      <th>18446676030785672386</th>\n",
       "      <td>3</td>\n",
       "    </tr>\n",
       "  </tbody>\n",
       "</table>\n",
       "<p>228169 rows × 1 columns</p>\n",
       "</div>"
      ],
      "text/plain": [
       "                      source_id\n",
       "uid                            \n",
       "11863502262781                3\n",
       "49537067089222                2\n",
       "297729379853735               3\n",
       "313578113262317               2\n",
       "325320750514679               5\n",
       "...                         ...\n",
       "18446403737806311543          5\n",
       "18446424184725333426          4\n",
       "18446556406699109058          3\n",
       "18446621818809592527          4\n",
       "18446676030785672386          3\n",
       "\n",
       "[228169 rows x 1 columns]"
      ]
     },
     "execution_count": 63,
     "metadata": {},
     "output_type": "execute_result"
    }
   ],
   "source": [
    "user = df_visits.sort_values('start_ts').groupby('uid').first()\n",
    "user = user[['source_id']]\n",
    "user"
   ]
  },
  {
   "cell_type": "code",
   "execution_count": 64,
   "metadata": {},
   "outputs": [
    {
     "data": {
      "text/html": [
       "<div>\n",
       "<style scoped>\n",
       "    .dataframe tbody tr th:only-of-type {\n",
       "        vertical-align: middle;\n",
       "    }\n",
       "\n",
       "    .dataframe tbody tr th {\n",
       "        vertical-align: top;\n",
       "    }\n",
       "\n",
       "    .dataframe thead th {\n",
       "        text-align: right;\n",
       "    }\n",
       "</style>\n",
       "<table border=\"1\" class=\"dataframe\">\n",
       "  <thead>\n",
       "    <tr style=\"text-align: right;\">\n",
       "      <th></th>\n",
       "      <th>source_id</th>\n",
       "      <th>first_order_date</th>\n",
       "      <th>n_buyers</th>\n",
       "    </tr>\n",
       "  </thead>\n",
       "  <tbody>\n",
       "    <tr>\n",
       "      <th>864</th>\n",
       "      <td>3</td>\n",
       "      <td>2017-10-20</td>\n",
       "      <td>31</td>\n",
       "    </tr>\n",
       "    <tr>\n",
       "      <th>2322</th>\n",
       "      <td>10</td>\n",
       "      <td>2018-01-30</td>\n",
       "      <td>7</td>\n",
       "    </tr>\n",
       "    <tr>\n",
       "      <th>2201</th>\n",
       "      <td>10</td>\n",
       "      <td>2017-09-21</td>\n",
       "      <td>5</td>\n",
       "    </tr>\n",
       "    <tr>\n",
       "      <th>771</th>\n",
       "      <td>3</td>\n",
       "      <td>2017-07-19</td>\n",
       "      <td>18</td>\n",
       "    </tr>\n",
       "    <tr>\n",
       "      <th>1657</th>\n",
       "      <td>5</td>\n",
       "      <td>2017-12-26</td>\n",
       "      <td>42</td>\n",
       "    </tr>\n",
       "  </tbody>\n",
       "</table>\n",
       "</div>"
      ],
      "text/plain": [
       "      source_id first_order_date  n_buyers\n",
       "864           3       2017-10-20        31\n",
       "2322         10       2018-01-30         7\n",
       "2201         10       2017-09-21         5\n",
       "771           3       2017-07-19        18\n",
       "1657          5       2017-12-26        42"
      ]
     },
     "execution_count": 64,
     "metadata": {},
     "output_type": "execute_result"
    }
   ],
   "source": [
    "buyers = pd.merge(first_buy, user, left_on='uid', right_index=True)\n",
    "buyers_daily = buyers.groupby(['source_id', 'first_order_date']).agg({'uid': 'count'}).reset_index()\n",
    "buyers_daily.rename(columns={'uid': 'n_buyers'}, inplace=True)\n",
    "buyers_daily['first_order_date'] = pd.to_datetime(buyers_daily['first_order_date'])\n",
    "buyers_daily.sample(5)"
   ]
  },
  {
   "cell_type": "code",
   "execution_count": 65,
   "metadata": {},
   "outputs": [
    {
     "data": {
      "text/html": [
       "<div>\n",
       "<style scoped>\n",
       "    .dataframe tbody tr th:only-of-type {\n",
       "        vertical-align: middle;\n",
       "    }\n",
       "\n",
       "    .dataframe tbody tr th {\n",
       "        vertical-align: top;\n",
       "    }\n",
       "\n",
       "    .dataframe thead th {\n",
       "        text-align: right;\n",
       "    }\n",
       "</style>\n",
       "<table border=\"1\" class=\"dataframe\">\n",
       "  <thead>\n",
       "    <tr style=\"text-align: right;\">\n",
       "      <th></th>\n",
       "      <th>source_id</th>\n",
       "      <th>first_order_date</th>\n",
       "      <th>n_buyers</th>\n",
       "      <th>dt</th>\n",
       "      <th>costs</th>\n",
       "      <th>month</th>\n",
       "      <th>cac</th>\n",
       "    </tr>\n",
       "  </thead>\n",
       "  <tbody>\n",
       "    <tr>\n",
       "      <th>0</th>\n",
       "      <td>1</td>\n",
       "      <td>2017-06-01</td>\n",
       "      <td>14</td>\n",
       "      <td>2017-06-01</td>\n",
       "      <td>75.20</td>\n",
       "      <td>2017-06-01</td>\n",
       "      <td>5.371429</td>\n",
       "    </tr>\n",
       "    <tr>\n",
       "      <th>1</th>\n",
       "      <td>1</td>\n",
       "      <td>2017-06-01</td>\n",
       "      <td>14</td>\n",
       "      <td>2017-06-02</td>\n",
       "      <td>62.25</td>\n",
       "      <td>2017-06-01</td>\n",
       "      <td>4.446429</td>\n",
       "    </tr>\n",
       "    <tr>\n",
       "      <th>2</th>\n",
       "      <td>1</td>\n",
       "      <td>2017-06-01</td>\n",
       "      <td>14</td>\n",
       "      <td>2017-06-03</td>\n",
       "      <td>36.53</td>\n",
       "      <td>2017-06-01</td>\n",
       "      <td>2.609286</td>\n",
       "    </tr>\n",
       "    <tr>\n",
       "      <th>3</th>\n",
       "      <td>1</td>\n",
       "      <td>2017-06-01</td>\n",
       "      <td>14</td>\n",
       "      <td>2017-06-04</td>\n",
       "      <td>55.00</td>\n",
       "      <td>2017-06-01</td>\n",
       "      <td>3.928571</td>\n",
       "    </tr>\n",
       "    <tr>\n",
       "      <th>4</th>\n",
       "      <td>1</td>\n",
       "      <td>2017-06-01</td>\n",
       "      <td>14</td>\n",
       "      <td>2017-06-05</td>\n",
       "      <td>57.08</td>\n",
       "      <td>2017-06-01</td>\n",
       "      <td>4.077143</td>\n",
       "    </tr>\n",
       "    <tr>\n",
       "      <th>...</th>\n",
       "      <td>...</td>\n",
       "      <td>...</td>\n",
       "      <td>...</td>\n",
       "      <td>...</td>\n",
       "      <td>...</td>\n",
       "      <td>...</td>\n",
       "      <td>...</td>\n",
       "    </tr>\n",
       "    <tr>\n",
       "      <th>2210</th>\n",
       "      <td>10</td>\n",
       "      <td>2018-05-01</td>\n",
       "      <td>1</td>\n",
       "      <td>2018-05-27</td>\n",
       "      <td>9.92</td>\n",
       "      <td>2018-05-01</td>\n",
       "      <td>9.920000</td>\n",
       "    </tr>\n",
       "    <tr>\n",
       "      <th>2211</th>\n",
       "      <td>10</td>\n",
       "      <td>2018-05-01</td>\n",
       "      <td>1</td>\n",
       "      <td>2018-05-28</td>\n",
       "      <td>21.26</td>\n",
       "      <td>2018-05-01</td>\n",
       "      <td>21.260000</td>\n",
       "    </tr>\n",
       "    <tr>\n",
       "      <th>2212</th>\n",
       "      <td>10</td>\n",
       "      <td>2018-05-01</td>\n",
       "      <td>1</td>\n",
       "      <td>2018-05-29</td>\n",
       "      <td>11.32</td>\n",
       "      <td>2018-05-01</td>\n",
       "      <td>11.320000</td>\n",
       "    </tr>\n",
       "    <tr>\n",
       "      <th>2213</th>\n",
       "      <td>10</td>\n",
       "      <td>2018-05-01</td>\n",
       "      <td>1</td>\n",
       "      <td>2018-05-30</td>\n",
       "      <td>33.15</td>\n",
       "      <td>2018-05-01</td>\n",
       "      <td>33.150000</td>\n",
       "    </tr>\n",
       "    <tr>\n",
       "      <th>2214</th>\n",
       "      <td>10</td>\n",
       "      <td>2018-05-01</td>\n",
       "      <td>1</td>\n",
       "      <td>2018-05-31</td>\n",
       "      <td>17.60</td>\n",
       "      <td>2018-05-01</td>\n",
       "      <td>17.600000</td>\n",
       "    </tr>\n",
       "  </tbody>\n",
       "</table>\n",
       "<p>2215 rows × 7 columns</p>\n",
       "</div>"
      ],
      "text/plain": [
       "      source_id first_order_date  n_buyers         dt  costs      month  \\\n",
       "0             1       2017-06-01        14 2017-06-01  75.20 2017-06-01   \n",
       "1             1       2017-06-01        14 2017-06-02  62.25 2017-06-01   \n",
       "2             1       2017-06-01        14 2017-06-03  36.53 2017-06-01   \n",
       "3             1       2017-06-01        14 2017-06-04  55.00 2017-06-01   \n",
       "4             1       2017-06-01        14 2017-06-05  57.08 2017-06-01   \n",
       "...         ...              ...       ...        ...    ...        ...   \n",
       "2210         10       2018-05-01         1 2018-05-27   9.92 2018-05-01   \n",
       "2211         10       2018-05-01         1 2018-05-28  21.26 2018-05-01   \n",
       "2212         10       2018-05-01         1 2018-05-29  11.32 2018-05-01   \n",
       "2213         10       2018-05-01         1 2018-05-30  33.15 2018-05-01   \n",
       "2214         10       2018-05-01         1 2018-05-31  17.60 2018-05-01   \n",
       "\n",
       "            cac  \n",
       "0      5.371429  \n",
       "1      4.446429  \n",
       "2      2.609286  \n",
       "3      3.928571  \n",
       "4      4.077143  \n",
       "...         ...  \n",
       "2210   9.920000  \n",
       "2211  21.260000  \n",
       "2212  11.320000  \n",
       "2213  33.150000  \n",
       "2214  17.600000  \n",
       "\n",
       "[2215 rows x 7 columns]"
      ]
     },
     "execution_count": 65,
     "metadata": {},
     "output_type": "execute_result"
    }
   ],
   "source": [
    "costs = pd.merge(buyers_daily, df_costs, left_on=['source_id', 'first_order_date'], right_on=['source_id', 'month'])\n",
    "costs['cac'] = costs['costs'] / costs['n_buyers']\n",
    "costs"
   ]
  },
  {
   "cell_type": "code",
   "execution_count": 66,
   "metadata": {},
   "outputs": [
    {
     "data": {
      "text/plain": [
       "<AxesSubplot:xlabel='source_id'>"
      ]
     },
     "execution_count": 66,
     "metadata": {},
     "output_type": "execute_result"
    },
    {
     "data": {
      "image/png": "[encoded data removed]",
      "text/plain": [
       "<Figure size 432x288 with 1 Axes>"
      ]
     },
     "metadata": {
      "needs_background": "light"
     },
     "output_type": "display_data"
    }
   ],
   "source": [
    "costs.groupby('source_id').agg({'cac': 'mean'}).round(2).plot(kind='bar')"
   ]
  },
  {
   "cell_type": "markdown",
   "metadata": {},
   "source": [
    "The average CAC from each source is highest for source 2."
   ]
  },
  {
   "cell_type": "markdown",
   "metadata": {},
   "source": [
    "### Determine the Profitability of the Investment Through ROI"
   ]
  },
  {
   "cell_type": "code",
   "execution_count": 67,
   "metadata": {},
   "outputs": [
    {
     "data": {
      "text/html": [
       "<div>\n",
       "<style scoped>\n",
       "    .dataframe tbody tr th:only-of-type {\n",
       "        vertical-align: middle;\n",
       "    }\n",
       "\n",
       "    .dataframe tbody tr th {\n",
       "        vertical-align: top;\n",
       "    }\n",
       "\n",
       "    .dataframe thead th {\n",
       "        text-align: right;\n",
       "    }\n",
       "</style>\n",
       "<table border=\"1\" class=\"dataframe\">\n",
       "  <thead>\n",
       "    <tr style=\"text-align: right;\">\n",
       "      <th></th>\n",
       "      <th>first_order_month</th>\n",
       "      <th>n_buyers</th>\n",
       "      <th>order_month</th>\n",
       "      <th>revenue</th>\n",
       "      <th>age_month</th>\n",
       "      <th>gp</th>\n",
       "      <th>ltv</th>\n",
       "    </tr>\n",
       "  </thead>\n",
       "  <tbody>\n",
       "    <tr>\n",
       "      <th>0</th>\n",
       "      <td>2017-06-01</td>\n",
       "      <td>2023</td>\n",
       "      <td>2017-06-01</td>\n",
       "      <td>9557.49</td>\n",
       "      <td>0</td>\n",
       "      <td>4778.745</td>\n",
       "      <td>2.362207</td>\n",
       "    </tr>\n",
       "    <tr>\n",
       "      <th>1</th>\n",
       "      <td>2017-06-01</td>\n",
       "      <td>2023</td>\n",
       "      <td>2017-07-01</td>\n",
       "      <td>981.82</td>\n",
       "      <td>1</td>\n",
       "      <td>490.910</td>\n",
       "      <td>0.242664</td>\n",
       "    </tr>\n",
       "    <tr>\n",
       "      <th>2</th>\n",
       "      <td>2017-06-01</td>\n",
       "      <td>2023</td>\n",
       "      <td>2017-08-01</td>\n",
       "      <td>885.34</td>\n",
       "      <td>2</td>\n",
       "      <td>442.670</td>\n",
       "      <td>0.218819</td>\n",
       "    </tr>\n",
       "    <tr>\n",
       "      <th>3</th>\n",
       "      <td>2017-06-01</td>\n",
       "      <td>2023</td>\n",
       "      <td>2017-09-01</td>\n",
       "      <td>1931.30</td>\n",
       "      <td>3</td>\n",
       "      <td>965.650</td>\n",
       "      <td>0.477336</td>\n",
       "    </tr>\n",
       "    <tr>\n",
       "      <th>4</th>\n",
       "      <td>2017-06-01</td>\n",
       "      <td>2023</td>\n",
       "      <td>2017-10-01</td>\n",
       "      <td>2068.58</td>\n",
       "      <td>4</td>\n",
       "      <td>1034.290</td>\n",
       "      <td>0.511265</td>\n",
       "    </tr>\n",
       "  </tbody>\n",
       "</table>\n",
       "</div>"
      ],
      "text/plain": [
       "  first_order_month  n_buyers order_month  revenue  age_month        gp  \\\n",
       "0        2017-06-01      2023  2017-06-01  9557.49          0  4778.745   \n",
       "1        2017-06-01      2023  2017-07-01   981.82          1   490.910   \n",
       "2        2017-06-01      2023  2017-08-01   885.34          2   442.670   \n",
       "3        2017-06-01      2023  2017-09-01  1931.30          3   965.650   \n",
       "4        2017-06-01      2023  2017-10-01  2068.58          4  1034.290   \n",
       "\n",
       "        ltv  \n",
       "0  2.362207  \n",
       "1  0.242664  \n",
       "2  0.218819  \n",
       "3  0.477336  \n",
       "4  0.511265  "
      ]
     },
     "execution_count": 67,
     "metadata": {},
     "output_type": "execute_result"
    }
   ],
   "source": [
    "report.head(5)"
   ]
  },
  {
   "cell_type": "code",
   "execution_count": 68,
   "metadata": {},
   "outputs": [
    {
     "data": {
      "text/html": [
       "<div>\n",
       "<style scoped>\n",
       "    .dataframe tbody tr th:only-of-type {\n",
       "        vertical-align: middle;\n",
       "    }\n",
       "\n",
       "    .dataframe tbody tr th {\n",
       "        vertical-align: top;\n",
       "    }\n",
       "\n",
       "    .dataframe thead th {\n",
       "        text-align: right;\n",
       "    }\n",
       "</style>\n",
       "<table border=\"1\" class=\"dataframe\">\n",
       "  <thead>\n",
       "    <tr style=\"text-align: right;\">\n",
       "      <th></th>\n",
       "      <th>source_id</th>\n",
       "      <th>first_order_date</th>\n",
       "      <th>n_buyers</th>\n",
       "      <th>dt</th>\n",
       "      <th>costs</th>\n",
       "      <th>month</th>\n",
       "      <th>cac</th>\n",
       "    </tr>\n",
       "  </thead>\n",
       "  <tbody>\n",
       "    <tr>\n",
       "      <th>0</th>\n",
       "      <td>1</td>\n",
       "      <td>2017-06-01</td>\n",
       "      <td>14</td>\n",
       "      <td>2017-06-01</td>\n",
       "      <td>75.20</td>\n",
       "      <td>2017-06-01</td>\n",
       "      <td>5.371429</td>\n",
       "    </tr>\n",
       "    <tr>\n",
       "      <th>1</th>\n",
       "      <td>1</td>\n",
       "      <td>2017-06-01</td>\n",
       "      <td>14</td>\n",
       "      <td>2017-06-02</td>\n",
       "      <td>62.25</td>\n",
       "      <td>2017-06-01</td>\n",
       "      <td>4.446429</td>\n",
       "    </tr>\n",
       "    <tr>\n",
       "      <th>2</th>\n",
       "      <td>1</td>\n",
       "      <td>2017-06-01</td>\n",
       "      <td>14</td>\n",
       "      <td>2017-06-03</td>\n",
       "      <td>36.53</td>\n",
       "      <td>2017-06-01</td>\n",
       "      <td>2.609286</td>\n",
       "    </tr>\n",
       "    <tr>\n",
       "      <th>3</th>\n",
       "      <td>1</td>\n",
       "      <td>2017-06-01</td>\n",
       "      <td>14</td>\n",
       "      <td>2017-06-04</td>\n",
       "      <td>55.00</td>\n",
       "      <td>2017-06-01</td>\n",
       "      <td>3.928571</td>\n",
       "    </tr>\n",
       "    <tr>\n",
       "      <th>4</th>\n",
       "      <td>1</td>\n",
       "      <td>2017-06-01</td>\n",
       "      <td>14</td>\n",
       "      <td>2017-06-05</td>\n",
       "      <td>57.08</td>\n",
       "      <td>2017-06-01</td>\n",
       "      <td>4.077143</td>\n",
       "    </tr>\n",
       "  </tbody>\n",
       "</table>\n",
       "</div>"
      ],
      "text/plain": [
       "   source_id first_order_date  n_buyers         dt  costs      month       cac\n",
       "0          1       2017-06-01        14 2017-06-01  75.20 2017-06-01  5.371429\n",
       "1          1       2017-06-01        14 2017-06-02  62.25 2017-06-01  4.446429\n",
       "2          1       2017-06-01        14 2017-06-03  36.53 2017-06-01  2.609286\n",
       "3          1       2017-06-01        14 2017-06-04  55.00 2017-06-01  3.928571\n",
       "4          1       2017-06-01        14 2017-06-05  57.08 2017-06-01  4.077143"
      ]
     },
     "execution_count": 68,
     "metadata": {},
     "output_type": "execute_result"
    }
   ],
   "source": [
    "costs.head(5)"
   ]
  },
  {
   "cell_type": "code",
   "execution_count": 69,
   "metadata": {},
   "outputs": [
    {
     "data": {
      "text/plain": [
       "-23.41750695360109"
      ]
     },
     "execution_count": 69,
     "metadata": {},
     "output_type": "execute_result"
    }
   ],
   "source": [
    "total_revenue = df_orders['revenue'].sum()\n",
    "\n",
    "# Total Biaya Akuisisi Pelanggan (Total CaC) per sumber\n",
    "total_cac_by_source = df_costs.groupby('source_id')['costs'].sum()\n",
    "\n",
    "# Total Biaya Akuisisi Pelanggan (Total CaC)\n",
    "total_cac = total_cac_by_source.sum()\n",
    "\n",
    "# Menghitung ROI\n",
    "roi = ((total_revenue - total_cac) / total_cac) * 100\n",
    "\n",
    "roi"
   ]
  },
  {
   "cell_type": "markdown",
   "metadata": {},
   "source": [
    "The invested funds have not yet broken even with the received funds, resulting in an ROI of -23.41%."
   ]
  },
  {
   "cell_type": "markdown",
   "metadata": {},
   "source": [
    "# Conclusion\n",
    "\n",
    "* The column names of the three files have been changed, and the data types for each column have been adjusted as necessary. Each file has no missing rows. Therefore, the data is ready for further analysis.\n",
    "* The number of people using the product daily is 907, weekly is 5,716, and monthly is 23,228.\n",
    "* The average number of sessions per user tends to be around 1, indicating that most users have one session per day, with a higher frequency towards the end of the year.\n",
    "* The average duration per session is 643 seconds, or approximately 10 to 11 minutes.\n",
    "* Weekly active users constitute 15% of the user base, while monthly active users make up 3%. The number is gradually decreasing.\n",
    "* On average, purchases are made directly by users during their first visit.\n",
    "* On a monthly basis, the number of orders increases from the end of the year to the beginning of the following year, with a similar trend observed in revenue. When separated by year, the number of orders in 2017 was higher than in 2018, with a total of 27,467 users.\n",
    "* The average purchase value is 4.99.\n",
    "* The average LTV tends to decline after the first few months. This may indicate that users become less active or less profitable after the initial months of usage.\n",
    "* The total expenditure is 329,131.62.\n",
    "* The highest expenditure per source is for source_id 3.\n",
    "* The largest amount of spending occurred between October and December 2017.\n",
    "* The average CAC from each source is highest for source 2.\n",
    "* The invested funds have not yet broken even with the received funds, resulting in an ROI of -23.41%.\n",
    "\n",
    "**Insight**: The average LTV tends to decline after the first few months, which may indicate that users become less active or less profitable after the initial months of usage. It is necessary to identify the factors causing the decline in LTV and make efforts to improve it."
   ]
  }
 ],
 "metadata": {
  "kernelspec": {
   "display_name": "Python 3 (ipykernel)",
   "language": "python",
   "name": "python3"
  },
  "language_info": {
   "codemirror_mode": {
    "name": "ipython",
    "version": 3
   },
   "file_extension": ".py",
   "mimetype": "text/x-python",
   "name": "python",
   "nbconvert_exporter": "python",
   "pygments_lexer": "ipython3",
   "version": "3.11.4"
  },
  "toc": {
   "base_numbering": 1,
   "nav_menu": {},
   "number_sections": true,
   "sideBar": true,
   "skip_h1_title": true,
   "title_cell": "Table of Contents",
   "title_sidebar": "Contents",
   "toc_cell": false,
   "toc_position": {},
   "toc_section_display": true,
   "toc_window_display": false
  }
 },
 "nbformat": 4,
 "nbformat_minor": 2
}
